{
 "cells": [
  {
   "cell_type": "markdown",
   "id": "f7728481",
   "metadata": {},
   "source": [
    "Доходы от продаж, полученных в результате рекламной компании по ТВ, радио, газетам."
   ]
  },
  {
   "attachments": {
    "image.png": {
     "image/png": "[encoded data removed]"
    }
   },
   "cell_type": "markdown",
   "id": "4f669ff5",
   "metadata": {},
   "source": [
    "![image.png](attachment:image.png)"
   ]
  },
  {
   "attachments": {
    "image.png": {
     "image/png": "[encoded data removed]"
    }
   },
   "cell_type": "markdown",
   "id": "571e43a6",
   "metadata": {},
   "source": [
    "![image.png](attachment:image.png)"
   ]
  },
  {
   "cell_type": "code",
   "execution_count": 1,
   "id": "1fff715c",
   "metadata": {},
   "outputs": [
    {
     "name": "stdout",
     "output_type": "stream",
     "text": [
      "Requirement already satisfied: yellowbrick in c:\\users\\svetlana\\appdata\\local\\programs\\python\\python310\\lib\\site-packages (1.5)\n",
      "Requirement already satisfied: matplotlib!=3.0.0,>=2.0.2 in c:\\users\\svetlana\\appdata\\local\\programs\\python\\python310\\lib\\site-packages (from yellowbrick) (3.6.0)\n",
      "Requirement already satisfied: scipy>=1.0.0 in c:\\users\\svetlana\\appdata\\local\\programs\\python\\python310\\lib\\site-packages (from yellowbrick) (1.9.1)\n",
      "Requirement already satisfied: scikit-learn>=1.0.0 in c:\\users\\svetlana\\appdata\\local\\programs\\python\\python310\\lib\\site-packages (from yellowbrick) (1.2.0)\n",
      "Requirement already satisfied: numpy>=1.16.0 in c:\\users\\svetlana\\appdata\\local\\programs\\python\\python310\\lib\\site-packages (from yellowbrick) (1.24.2)\n",
      "Requirement already satisfied: cycler>=0.10.0 in c:\\users\\svetlana\\appdata\\local\\programs\\python\\python310\\lib\\site-packages (from yellowbrick) (0.11.0)\n",
      "Requirement already satisfied: contourpy>=1.0.1 in c:\\users\\svetlana\\appdata\\local\\programs\\python\\python310\\lib\\site-packages (from matplotlib!=3.0.0,>=2.0.2->yellowbrick) (1.0.7)\n",
      "Requirement already satisfied: fonttools>=4.22.0 in c:\\users\\svetlana\\appdata\\local\\programs\\python\\python310\\lib\\site-packages (from matplotlib!=3.0.0,>=2.0.2->yellowbrick) (4.39.3)\n",
      "Requirement already satisfied: kiwisolver>=1.0.1 in c:\\users\\svetlana\\appdata\\local\\programs\\python\\python310\\lib\\site-packages (from matplotlib!=3.0.0,>=2.0.2->yellowbrick) (1.4.4)\n",
      "Requirement already satisfied: packaging>=20.0 in c:\\users\\svetlana\\appdata\\local\\programs\\python\\python310\\lib\\site-packages (from matplotlib!=3.0.0,>=2.0.2->yellowbrick) (23.0)\n",
      "Requirement already satisfied: pillow>=6.2.0 in c:\\users\\svetlana\\appdata\\local\\programs\\python\\python310\\lib\\site-packages (from matplotlib!=3.0.0,>=2.0.2->yellowbrick) (9.5.0)\n",
      "Requirement already satisfied: pyparsing>=2.2.1 in c:\\users\\svetlana\\appdata\\local\\programs\\python\\python310\\lib\\site-packages (from matplotlib!=3.0.0,>=2.0.2->yellowbrick) (3.0.9)\n",
      "Requirement already satisfied: python-dateutil>=2.7 in c:\\users\\svetlana\\appdata\\local\\programs\\python\\python310\\lib\\site-packages (from matplotlib!=3.0.0,>=2.0.2->yellowbrick) (2.8.2)\n",
      "Requirement already satisfied: joblib>=1.1.1 in c:\\users\\svetlana\\appdata\\local\\programs\\python\\python310\\lib\\site-packages (from scikit-learn>=1.0.0->yellowbrick) (1.2.0)\n",
      "Requirement already satisfied: threadpoolctl>=2.0.0 in c:\\users\\svetlana\\appdata\\local\\programs\\python\\python310\\lib\\site-packages (from scikit-learn>=1.0.0->yellowbrick) (3.1.0)\n",
      "Requirement already satisfied: six>=1.5 in c:\\users\\svetlana\\appdata\\local\\programs\\python\\python310\\lib\\site-packages (from python-dateutil>=2.7->matplotlib!=3.0.0,>=2.0.2->yellowbrick) (1.16.0)\n"
     ]
    },
    {
     "name": "stderr",
     "output_type": "stream",
     "text": [
      "\n",
      "[notice] A new release of pip is available: 23.3.1 -> 24.2\n",
      "[notice] To update, run: C:\\Users\\Svetlana\\AppData\\Local\\Programs\\Python\\Python310\\python.exe -m pip install --upgrade pip\n"
     ]
    }
   ],
   "source": [
    "!py -m pip install yellowbrick"
   ]
  },
  {
   "cell_type": "code",
   "execution_count": 2,
   "id": "c4ff42bf",
   "metadata": {},
   "outputs": [
    {
     "name": "stdout",
     "output_type": "stream",
     "text": [
      "libraries imported..\n"
     ]
    }
   ],
   "source": [
    "import pandas as pd\n",
    "import numpy as np\n",
    "import seaborn as sns\n",
    "from scipy.stats import skew\n",
    "from sklearn.linear_model import LinearRegression\n",
    "from sklearn.metrics import r2_score\n",
    "from sklearn.model_selection import train_test_split\n",
    "from sklearn.metrics import mean_squared_error\n",
    "from yellowbrick.regressor import PredictionError, ResidualsPlot\n",
    "from sklearn import metrics\n",
    "%matplotlib inline\n",
    "import matplotlib.pyplot as plt\n",
    "plt.style.use(\"ggplot\")\n",
    "plt.rcParams['figure.figsize'] = (12, 8)\n",
    "print(\"libraries imported..\")"
   ]
  },
  {
   "cell_type": "code",
   "execution_count": 3,
   "id": "99075938",
   "metadata": {},
   "outputs": [
    {
     "data": {
      "text/html": [
       "<div>\n",
       "<style scoped>\n",
       "    .dataframe tbody tr th:only-of-type {\n",
       "        vertical-align: middle;\n",
       "    }\n",
       "\n",
       "    .dataframe tbody tr th {\n",
       "        vertical-align: top;\n",
       "    }\n",
       "\n",
       "    .dataframe thead th {\n",
       "        text-align: right;\n",
       "    }\n",
       "</style>\n",
       "<table border=\"1\" class=\"dataframe\">\n",
       "  <thead>\n",
       "    <tr style=\"text-align: right;\">\n",
       "      <th></th>\n",
       "      <th>Unnamed: 0</th>\n",
       "      <th>TV</th>\n",
       "      <th>radio</th>\n",
       "      <th>newspaper</th>\n",
       "      <th>sales</th>\n",
       "    </tr>\n",
       "  </thead>\n",
       "  <tbody>\n",
       "    <tr>\n",
       "      <th>0</th>\n",
       "      <td>1</td>\n",
       "      <td>230.1</td>\n",
       "      <td>37.8</td>\n",
       "      <td>69.2</td>\n",
       "      <td>22.1</td>\n",
       "    </tr>\n",
       "    <tr>\n",
       "      <th>1</th>\n",
       "      <td>2</td>\n",
       "      <td>44.5</td>\n",
       "      <td>39.3</td>\n",
       "      <td>45.1</td>\n",
       "      <td>10.4</td>\n",
       "    </tr>\n",
       "    <tr>\n",
       "      <th>2</th>\n",
       "      <td>3</td>\n",
       "      <td>17.2</td>\n",
       "      <td>45.9</td>\n",
       "      <td>69.3</td>\n",
       "      <td>9.3</td>\n",
       "    </tr>\n",
       "    <tr>\n",
       "      <th>3</th>\n",
       "      <td>4</td>\n",
       "      <td>151.5</td>\n",
       "      <td>41.3</td>\n",
       "      <td>58.5</td>\n",
       "      <td>18.5</td>\n",
       "    </tr>\n",
       "    <tr>\n",
       "      <th>4</th>\n",
       "      <td>5</td>\n",
       "      <td>180.8</td>\n",
       "      <td>10.8</td>\n",
       "      <td>58.4</td>\n",
       "      <td>12.9</td>\n",
       "    </tr>\n",
       "  </tbody>\n",
       "</table>\n",
       "</div>"
      ],
      "text/plain": [
       "   Unnamed: 0     TV  radio  newspaper  sales\n",
       "0           1  230.1   37.8       69.2   22.1\n",
       "1           2   44.5   39.3       45.1   10.4\n",
       "2           3   17.2   45.9       69.3    9.3\n",
       "3           4  151.5   41.3       58.5   18.5\n",
       "4           5  180.8   10.8       58.4   12.9"
      ]
     },
     "execution_count": 3,
     "metadata": {},
     "output_type": "execute_result"
    }
   ],
   "source": [
    "df = pd.read_csv(\"Advertising.csv\")\n",
    "df.head()"
   ]
  },
  {
   "cell_type": "code",
   "execution_count": 4,
   "id": "ed06276b",
   "metadata": {},
   "outputs": [
    {
     "data": {
      "text/plain": [
       "Unnamed: 0    0\n",
       "TV            0\n",
       "radio         0\n",
       "newspaper     0\n",
       "sales         0\n",
       "dtype: int64"
      ]
     },
     "execution_count": 4,
     "metadata": {},
     "output_type": "execute_result"
    }
   ],
   "source": [
    "df.isnull().sum()"
   ]
  },
  {
   "cell_type": "code",
   "execution_count": 5,
   "id": "49e6a3d4",
   "metadata": {},
   "outputs": [
    {
     "data": {
      "text/plain": [
       "0"
      ]
     },
     "execution_count": 5,
     "metadata": {},
     "output_type": "execute_result"
    }
   ],
   "source": [
    "df.duplicated().sum()"
   ]
  },
  {
   "cell_type": "code",
   "execution_count": 6,
   "id": "4ca7e874",
   "metadata": {},
   "outputs": [
    {
     "data": {
      "text/html": [
       "<div>\n",
       "<style scoped>\n",
       "    .dataframe tbody tr th:only-of-type {\n",
       "        vertical-align: middle;\n",
       "    }\n",
       "\n",
       "    .dataframe tbody tr th {\n",
       "        vertical-align: top;\n",
       "    }\n",
       "\n",
       "    .dataframe thead th {\n",
       "        text-align: right;\n",
       "    }\n",
       "</style>\n",
       "<table border=\"1\" class=\"dataframe\">\n",
       "  <thead>\n",
       "    <tr style=\"text-align: right;\">\n",
       "      <th></th>\n",
       "      <th>Unnamed: 0</th>\n",
       "      <th>TV</th>\n",
       "      <th>radio</th>\n",
       "      <th>newspaper</th>\n",
       "      <th>sales</th>\n",
       "    </tr>\n",
       "  </thead>\n",
       "  <tbody>\n",
       "    <tr>\n",
       "      <th>count</th>\n",
       "      <td>200.000000</td>\n",
       "      <td>200.000000</td>\n",
       "      <td>200.000000</td>\n",
       "      <td>200.000000</td>\n",
       "      <td>200.000000</td>\n",
       "    </tr>\n",
       "    <tr>\n",
       "      <th>mean</th>\n",
       "      <td>100.500000</td>\n",
       "      <td>147.042500</td>\n",
       "      <td>23.264000</td>\n",
       "      <td>30.554000</td>\n",
       "      <td>14.022500</td>\n",
       "    </tr>\n",
       "    <tr>\n",
       "      <th>std</th>\n",
       "      <td>57.879185</td>\n",
       "      <td>85.854236</td>\n",
       "      <td>14.846809</td>\n",
       "      <td>21.778621</td>\n",
       "      <td>5.217457</td>\n",
       "    </tr>\n",
       "    <tr>\n",
       "      <th>min</th>\n",
       "      <td>1.000000</td>\n",
       "      <td>0.700000</td>\n",
       "      <td>0.000000</td>\n",
       "      <td>0.300000</td>\n",
       "      <td>1.600000</td>\n",
       "    </tr>\n",
       "    <tr>\n",
       "      <th>25%</th>\n",
       "      <td>50.750000</td>\n",
       "      <td>74.375000</td>\n",
       "      <td>9.975000</td>\n",
       "      <td>12.750000</td>\n",
       "      <td>10.375000</td>\n",
       "    </tr>\n",
       "    <tr>\n",
       "      <th>50%</th>\n",
       "      <td>100.500000</td>\n",
       "      <td>149.750000</td>\n",
       "      <td>22.900000</td>\n",
       "      <td>25.750000</td>\n",
       "      <td>12.900000</td>\n",
       "    </tr>\n",
       "    <tr>\n",
       "      <th>75%</th>\n",
       "      <td>150.250000</td>\n",
       "      <td>218.825000</td>\n",
       "      <td>36.525000</td>\n",
       "      <td>45.100000</td>\n",
       "      <td>17.400000</td>\n",
       "    </tr>\n",
       "    <tr>\n",
       "      <th>max</th>\n",
       "      <td>200.000000</td>\n",
       "      <td>296.400000</td>\n",
       "      <td>49.600000</td>\n",
       "      <td>114.000000</td>\n",
       "      <td>27.000000</td>\n",
       "    </tr>\n",
       "  </tbody>\n",
       "</table>\n",
       "</div>"
      ],
      "text/plain": [
       "       Unnamed: 0          TV       radio   newspaper       sales\n",
       "count  200.000000  200.000000  200.000000  200.000000  200.000000\n",
       "mean   100.500000  147.042500   23.264000   30.554000   14.022500\n",
       "std     57.879185   85.854236   14.846809   21.778621    5.217457\n",
       "min      1.000000    0.700000    0.000000    0.300000    1.600000\n",
       "25%     50.750000   74.375000    9.975000   12.750000   10.375000\n",
       "50%    100.500000  149.750000   22.900000   25.750000   12.900000\n",
       "75%    150.250000  218.825000   36.525000   45.100000   17.400000\n",
       "max    200.000000  296.400000   49.600000  114.000000   27.000000"
      ]
     },
     "execution_count": 6,
     "metadata": {},
     "output_type": "execute_result"
    }
   ],
   "source": [
    "df.describe()"
   ]
  },
  {
   "cell_type": "code",
   "execution_count": 7,
   "id": "484cc19d",
   "metadata": {},
   "outputs": [
    {
     "name": "stdout",
     "output_type": "stream",
     "text": [
      "<class 'pandas.core.frame.DataFrame'>\n",
      "RangeIndex: 200 entries, 0 to 199\n",
      "Data columns (total 5 columns):\n",
      " #   Column      Non-Null Count  Dtype  \n",
      "---  ------      --------------  -----  \n",
      " 0   Unnamed: 0  200 non-null    int64  \n",
      " 1   TV          200 non-null    float64\n",
      " 2   radio       200 non-null    float64\n",
      " 3   newspaper   200 non-null    float64\n",
      " 4   sales       200 non-null    float64\n",
      "dtypes: float64(4), int64(1)\n",
      "memory usage: 7.9 KB\n"
     ]
    }
   ],
   "source": [
    "df.info()"
   ]
  },
  {
   "cell_type": "code",
   "execution_count": 8,
   "id": "3d9d85b9",
   "metadata": {},
   "outputs": [],
   "source": [
    "df.drop(df.columns[[0]], axis = 1, inplace = True) "
   ]
  },
  {
   "cell_type": "code",
   "execution_count": 9,
   "id": "8629b942",
   "metadata": {},
   "outputs": [
    {
     "name": "stdout",
     "output_type": "stream",
     "text": [
      "<class 'pandas.core.frame.DataFrame'>\n",
      "RangeIndex: 200 entries, 0 to 199\n",
      "Data columns (total 4 columns):\n",
      " #   Column     Non-Null Count  Dtype  \n",
      "---  ------     --------------  -----  \n",
      " 0   TV         200 non-null    float64\n",
      " 1   radio      200 non-null    float64\n",
      " 2   newspaper  200 non-null    float64\n",
      " 3   sales      200 non-null    float64\n",
      "dtypes: float64(4)\n",
      "memory usage: 6.4 KB\n"
     ]
    }
   ],
   "source": [
    "df.info()"
   ]
  },
  {
   "cell_type": "code",
   "execution_count": 10,
   "id": "473407fc",
   "metadata": {},
   "outputs": [
    {
     "data": {
      "text/plain": [
       "0      22.1\n",
       "1      10.4\n",
       "2       9.3\n",
       "3      18.5\n",
       "4      12.9\n",
       "       ... \n",
       "195     7.6\n",
       "196     9.7\n",
       "197    12.8\n",
       "198    25.5\n",
       "199    13.4\n",
       "Name: sales, Length: 200, dtype: float64"
      ]
     },
     "execution_count": 10,
     "metadata": {},
     "output_type": "execute_result"
    }
   ],
   "source": [
    "df['sales']"
   ]
  },
  {
   "cell_type": "code",
   "execution_count": 11,
   "id": "b81e4fd4",
   "metadata": {},
   "outputs": [
    {
     "data": {
      "text/plain": [
       "0.7822244248616066"
      ]
     },
     "execution_count": 11,
     "metadata": {},
     "output_type": "execute_result"
    }
   ],
   "source": [
    "df.TV.corr(df.sales)"
   ]
  },
  {
   "cell_type": "code",
   "execution_count": 12,
   "id": "2a7ea301",
   "metadata": {},
   "outputs": [
    {
     "data": {
      "text/plain": [
       "0.5762225745710553"
      ]
     },
     "execution_count": 12,
     "metadata": {},
     "output_type": "execute_result"
    }
   ],
   "source": [
    "\n",
    "df.radio.corr(df.sales)"
   ]
  },
  {
   "cell_type": "code",
   "execution_count": 13,
   "id": "9d755412",
   "metadata": {},
   "outputs": [
    {
     "data": {
      "text/plain": [
       "0.22829902637616534"
      ]
     },
     "execution_count": 13,
     "metadata": {},
     "output_type": "execute_result"
    }
   ],
   "source": [
    "\n",
    "df.newspaper.corr(df.sales)"
   ]
  },
  {
   "cell_type": "code",
   "execution_count": 14,
   "id": "213e77dd",
   "metadata": {},
   "outputs": [
    {
     "data": {
      "text/html": [
       "<div>\n",
       "<style scoped>\n",
       "    .dataframe tbody tr th:only-of-type {\n",
       "        vertical-align: middle;\n",
       "    }\n",
       "\n",
       "    .dataframe tbody tr th {\n",
       "        vertical-align: top;\n",
       "    }\n",
       "\n",
       "    .dataframe thead th {\n",
       "        text-align: right;\n",
       "    }\n",
       "</style>\n",
       "<table border=\"1\" class=\"dataframe\">\n",
       "  <thead>\n",
       "    <tr style=\"text-align: right;\">\n",
       "      <th></th>\n",
       "      <th>TV</th>\n",
       "      <th>radio</th>\n",
       "      <th>newspaper</th>\n",
       "      <th>sales</th>\n",
       "    </tr>\n",
       "  </thead>\n",
       "  <tbody>\n",
       "    <tr>\n",
       "      <th>TV</th>\n",
       "      <td>1.000000</td>\n",
       "      <td>0.054809</td>\n",
       "      <td>0.056648</td>\n",
       "      <td>0.782224</td>\n",
       "    </tr>\n",
       "    <tr>\n",
       "      <th>radio</th>\n",
       "      <td>0.054809</td>\n",
       "      <td>1.000000</td>\n",
       "      <td>0.354104</td>\n",
       "      <td>0.576223</td>\n",
       "    </tr>\n",
       "    <tr>\n",
       "      <th>newspaper</th>\n",
       "      <td>0.056648</td>\n",
       "      <td>0.354104</td>\n",
       "      <td>1.000000</td>\n",
       "      <td>0.228299</td>\n",
       "    </tr>\n",
       "    <tr>\n",
       "      <th>sales</th>\n",
       "      <td>0.782224</td>\n",
       "      <td>0.576223</td>\n",
       "      <td>0.228299</td>\n",
       "      <td>1.000000</td>\n",
       "    </tr>\n",
       "  </tbody>\n",
       "</table>\n",
       "</div>"
      ],
      "text/plain": [
       "                 TV     radio  newspaper     sales\n",
       "TV         1.000000  0.054809   0.056648  0.782224\n",
       "radio      0.054809  1.000000   0.354104  0.576223\n",
       "newspaper  0.056648  0.354104   1.000000  0.228299\n",
       "sales      0.782224  0.576223   0.228299  1.000000"
      ]
     },
     "execution_count": 14,
     "metadata": {},
     "output_type": "execute_result"
    }
   ],
   "source": [
    "df.corr()"
   ]
  },
  {
   "cell_type": "code",
   "execution_count": 15,
   "id": "5307a9a0",
   "metadata": {},
   "outputs": [
    {
     "data": {
      "text/plain": [
       "<AxesSubplot: >"
      ]
     },
     "execution_count": 15,
     "metadata": {},
     "output_type": "execute_result"
    },
    {
     "data": {
      "image/png": "[encoded data removed]",
      "text/plain": [
       "<Figure size 864x576 with 2 Axes>"
      ]
     },
     "metadata": {},
     "output_type": "display_data"
    }
   ],
   "source": [
    "\n",
    "sns.heatmap(df.corr(),annot=True)"
   ]
  },
  {
   "cell_type": "code",
   "execution_count": 16,
   "id": "d3cd50a7",
   "metadata": {},
   "outputs": [
    {
     "data": {
      "text/html": [
       "<div>\n",
       "<style scoped>\n",
       "    .dataframe tbody tr th:only-of-type {\n",
       "        vertical-align: middle;\n",
       "    }\n",
       "\n",
       "    .dataframe tbody tr th {\n",
       "        vertical-align: top;\n",
       "    }\n",
       "\n",
       "    .dataframe thead th {\n",
       "        text-align: right;\n",
       "    }\n",
       "</style>\n",
       "<table border=\"1\" class=\"dataframe\">\n",
       "  <thead>\n",
       "    <tr style=\"text-align: right;\">\n",
       "      <th></th>\n",
       "      <th>newspaper</th>\n",
       "    </tr>\n",
       "  </thead>\n",
       "  <tbody>\n",
       "    <tr>\n",
       "      <th>0</th>\n",
       "      <td>69.2</td>\n",
       "    </tr>\n",
       "    <tr>\n",
       "      <th>1</th>\n",
       "      <td>45.1</td>\n",
       "    </tr>\n",
       "    <tr>\n",
       "      <th>2</th>\n",
       "      <td>69.3</td>\n",
       "    </tr>\n",
       "    <tr>\n",
       "      <th>3</th>\n",
       "      <td>58.5</td>\n",
       "    </tr>\n",
       "    <tr>\n",
       "      <th>4</th>\n",
       "      <td>58.4</td>\n",
       "    </tr>\n",
       "  </tbody>\n",
       "</table>\n",
       "</div>"
      ],
      "text/plain": [
       "   newspaper\n",
       "0       69.2\n",
       "1       45.1\n",
       "2       69.3\n",
       "3       58.5\n",
       "4       58.4"
      ]
     },
     "execution_count": 16,
     "metadata": {},
     "output_type": "execute_result"
    }
   ],
   "source": [
    "X = df[['newspaper']]\n",
    "X.head()"
   ]
  },
  {
   "cell_type": "markdown",
   "id": "697fb341",
   "metadata": {},
   "source": [
    "M = 10\n",
    "X_base = df[['newspaper']].copy()\n",
    "for i in range(2,M+1):\n",
    "    X_base['newspaper']*= X_base['newspaper']\n",
    "    "
   ]
  },
  {
   "cell_type": "code",
   "execution_count": 17,
   "id": "f6ef190c",
   "metadata": {},
   "outputs": [
    {
     "data": {
      "text/plain": [
       "pandas.core.series.Series"
      ]
     },
     "execution_count": 17,
     "metadata": {},
     "output_type": "execute_result"
    }
   ],
   "source": [
    "y = df.sales\n",
    "type(y)"
   ]
  },
  {
   "cell_type": "code",
   "execution_count": 18,
   "id": "41f31f9c",
   "metadata": {},
   "outputs": [],
   "source": [
    "X_train,X_test, y_train, y_test = train_test_split(X,y, random_state=1)"
   ]
  },
  {
   "cell_type": "code",
   "execution_count": 19,
   "id": "0dc0cf1c",
   "metadata": {},
   "outputs": [
    {
     "data": {
      "text/html": [
       "<style>#sk-container-id-1 {color: black;background-color: white;}#sk-container-id-1 pre{padding: 0;}#sk-container-id-1 div.sk-toggleable {background-color: white;}#sk-container-id-1 label.sk-toggleable__label {cursor: pointer;display: block;width: 100%;margin-bottom: 0;padding: 0.3em;box-sizing: border-box;text-align: center;}#sk-container-id-1 label.sk-toggleable__label-arrow:before {content: \"▸\";float: left;margin-right: 0.25em;color: #696969;}#sk-container-id-1 label.sk-toggleable__label-arrow:hover:before {color: black;}#sk-container-id-1 div.sk-estimator:hover label.sk-toggleable__label-arrow:before {color: black;}#sk-container-id-1 div.sk-toggleable__content {max-height: 0;max-width: 0;overflow: hidden;text-align: left;background-color: #f0f8ff;}#sk-container-id-1 div.sk-toggleable__content pre {margin: 0.2em;color: black;border-radius: 0.25em;background-color: #f0f8ff;}#sk-container-id-1 input.sk-toggleable__control:checked~div.sk-toggleable__content {max-height: 200px;max-width: 100%;overflow: auto;}#sk-container-id-1 input.sk-toggleable__control:checked~label.sk-toggleable__label-arrow:before {content: \"▾\";}#sk-container-id-1 div.sk-estimator input.sk-toggleable__control:checked~label.sk-toggleable__label {background-color: #d4ebff;}#sk-container-id-1 div.sk-label input.sk-toggleable__control:checked~label.sk-toggleable__label {background-color: #d4ebff;}#sk-container-id-1 input.sk-hidden--visually {border: 0;clip: rect(1px 1px 1px 1px);clip: rect(1px, 1px, 1px, 1px);height: 1px;margin: -1px;overflow: hidden;padding: 0;position: absolute;width: 1px;}#sk-container-id-1 div.sk-estimator {font-family: monospace;background-color: #f0f8ff;border: 1px dotted black;border-radius: 0.25em;box-sizing: border-box;margin-bottom: 0.5em;}#sk-container-id-1 div.sk-estimator:hover {background-color: #d4ebff;}#sk-container-id-1 div.sk-parallel-item::after {content: \"\";width: 100%;border-bottom: 1px solid gray;flex-grow: 1;}#sk-container-id-1 div.sk-label:hover label.sk-toggleable__label {background-color: #d4ebff;}#sk-container-id-1 div.sk-serial::before {content: \"\";position: absolute;border-left: 1px solid gray;box-sizing: border-box;top: 0;bottom: 0;left: 50%;z-index: 0;}#sk-container-id-1 div.sk-serial {display: flex;flex-direction: column;align-items: center;background-color: white;padding-right: 0.2em;padding-left: 0.2em;position: relative;}#sk-container-id-1 div.sk-item {position: relative;z-index: 1;}#sk-container-id-1 div.sk-parallel {display: flex;align-items: stretch;justify-content: center;background-color: white;position: relative;}#sk-container-id-1 div.sk-item::before, #sk-container-id-1 div.sk-parallel-item::before {content: \"\";position: absolute;border-left: 1px solid gray;box-sizing: border-box;top: 0;bottom: 0;left: 50%;z-index: -1;}#sk-container-id-1 div.sk-parallel-item {display: flex;flex-direction: column;z-index: 1;position: relative;background-color: white;}#sk-container-id-1 div.sk-parallel-item:first-child::after {align-self: flex-end;width: 50%;}#sk-container-id-1 div.sk-parallel-item:last-child::after {align-self: flex-start;width: 50%;}#sk-container-id-1 div.sk-parallel-item:only-child::after {width: 0;}#sk-container-id-1 div.sk-dashed-wrapped {border: 1px dashed gray;margin: 0 0.4em 0.5em 0.4em;box-sizing: border-box;padding-bottom: 0.4em;background-color: white;}#sk-container-id-1 div.sk-label label {font-family: monospace;font-weight: bold;display: inline-block;line-height: 1.2em;}#sk-container-id-1 div.sk-label-container {text-align: center;}#sk-container-id-1 div.sk-container {/* jupyter's `normalize.less` sets `[hidden] { display: none; }` but bootstrap.min.css set `[hidden] { display: none !important; }` so we also need the `!important` here to be able to override the default hidden behavior on the sphinx rendered scikit-learn.org. See: https://github.com/scikit-learn/scikit-learn/issues/21755 */display: inline-block !important;position: relative;}#sk-container-id-1 div.sk-text-repr-fallback {display: none;}</style><div id=\"sk-container-id-1\" class=\"sk-top-container\"><div class=\"sk-text-repr-fallback\"><pre>LinearRegression()</pre><b>In a Jupyter environment, please rerun this cell to show the HTML representation or trust the notebook. <br />On GitHub, the HTML representation is unable to render, please try loading this page with nbviewer.org.</b></div><div class=\"sk-container\" hidden><div class=\"sk-item\"><div class=\"sk-estimator sk-toggleable\"><input class=\"sk-toggleable__control sk-hidden--visually\" id=\"sk-estimator-id-1\" type=\"checkbox\" checked><label for=\"sk-estimator-id-1\" class=\"sk-toggleable__label sk-toggleable__label-arrow\">LinearRegression</label><div class=\"sk-toggleable__content\"><pre>LinearRegression()</pre></div></div></div></div></div>"
      ],
      "text/plain": [
       "LinearRegression()"
      ]
     },
     "execution_count": 19,
     "metadata": {},
     "output_type": "execute_result"
    }
   ],
   "source": [
    "lr_m0 = LinearRegression()\n",
    "lr_m0.fit(X_train, y_train)"
   ]
  },
  {
   "cell_type": "code",
   "execution_count": 20,
   "id": "5ea0ae1c",
   "metadata": {},
   "outputs": [
    {
     "name": "stdout",
     "output_type": "stream",
     "text": [
      "11.765576707409682\n",
      "[0.06888299]\n"
     ]
    }
   ],
   "source": [
    "print(lr_m0.intercept_)\n",
    "print(lr_m0.coef_)"
   ]
  },
  {
   "cell_type": "code",
   "execution_count": 21,
   "id": "e70c40c0",
   "metadata": {},
   "outputs": [],
   "source": [
    "# b0,b1.увеличение расходов на 1 (для газет) связано с увеличением выручки на 0.068"
   ]
  },
  {
   "cell_type": "code",
   "execution_count": 22,
   "id": "8069e2cf",
   "metadata": {},
   "outputs": [
    {
     "data": {
      "text/plain": [
       "array([14.36246531, 13.94227909, 12.27531081, 13.23967263, 13.83206631])"
      ]
     },
     "execution_count": 22,
     "metadata": {},
     "output_type": "execute_result"
    }
   ],
   "source": [
    "y_pred = lr_m0.predict(X_test) \n",
    "y_pred[:5] "
   ]
  },
  {
   "cell_type": "code",
   "execution_count": 23,
   "id": "2a381720",
   "metadata": {},
   "outputs": [
    {
     "data": {
      "text/plain": [
       "25.196780034607826"
      ]
     },
     "execution_count": 23,
     "metadata": {},
     "output_type": "execute_result"
    }
   ],
   "source": [
    "mean_squared_error(y_test, y_pred)"
   ]
  },
  {
   "cell_type": "code",
   "execution_count": 24,
   "id": "32ff58c8",
   "metadata": {},
   "outputs": [],
   "source": [
    "from sklearn.preprocessing import maxabs_scale\n",
    "X = df[['newspaper']].copy()\n",
    "X_maxabs = maxabs_scale(X, axis=0)"
   ]
  },
  {
   "cell_type": "code",
   "execution_count": 25,
   "id": "2cc1cf76",
   "metadata": {},
   "outputs": [
    {
     "data": {
      "text/plain": [
       "array([[0.60701754],\n",
       "       [0.39561404],\n",
       "       [0.60789474],\n",
       "       [0.51315789],\n",
       "       [0.5122807 ],\n",
       "       [0.65789474],\n",
       "       [0.20614035],\n",
       "       [0.10175439],\n",
       "       [0.00877193],\n",
       "       [0.18596491],\n",
       "       [0.2122807 ],\n",
       "       [0.03508772],\n",
       "       [0.57807018],\n",
       "       [0.06315789],\n",
       "       [0.40350877],\n",
       "       [0.46403509],\n",
       "       [1.        ],\n",
       "       [0.48947368],\n",
       "       [0.16052632],\n",
       "       [0.16754386],\n",
       "       [0.46842105],\n",
       "       [0.20614035],\n",
       "       [0.43508772],\n",
       "       [0.22982456],\n",
       "       [0.16052632],\n",
       "       [0.17105263],\n",
       "       [0.11052632],\n",
       "       [0.20087719],\n",
       "       [0.20087719],\n",
       "       [0.35789474],\n",
       "       [0.37894737],\n",
       "       [0.33859649],\n",
       "       [0.26315789],\n",
       "       [0.00263158],\n",
       "       [0.06491228],\n",
       "       [0.0745614 ],\n",
       "       [0.04385965],\n",
       "       [0.40087719],\n",
       "       [0.30789474],\n",
       "       [0.28070175],\n",
       "       [0.27719298],\n",
       "       [0.33947368],\n",
       "       [0.01578947],\n",
       "       [0.23157895],\n",
       "       [0.37982456],\n",
       "       [0.27631579],\n",
       "       [0.31315789],\n",
       "       [0.1622807 ],\n",
       "       [0.4377193 ],\n",
       "       [0.32280702],\n",
       "       [0.30350877],\n",
       "       [0.03157895],\n",
       "       [0.34736842],\n",
       "       [0.51491228],\n",
       "       [0.13947368],\n",
       "       [0.52631579],\n",
       "       [0.36315789],\n",
       "       [0.14561404],\n",
       "       [0.33070175],\n",
       "       [0.08157895],\n",
       "       [0.1877193 ],\n",
       "       [0.47982456],\n",
       "       [0.23947368],\n",
       "       [0.07368421],\n",
       "       [0.25350877],\n",
       "       [0.00789474],\n",
       "       [0.01929825],\n",
       "       [0.08947368],\n",
       "       [0.09649123],\n",
       "       [0.23859649],\n",
       "       [0.33947368],\n",
       "       [0.27807018],\n",
       "       [0.16929825],\n",
       "       [0.2745614 ],\n",
       "       [0.11491228],\n",
       "       [0.78421053],\n",
       "       [0.18157895],\n",
       "       [0.1245614 ],\n",
       "       [0.08245614],\n",
       "       [0.20263158],\n",
       "       [0.19561404],\n",
       "       [0.32368421],\n",
       "       [0.28508772],\n",
       "       [0.3122807 ],\n",
       "       [0.29649123],\n",
       "       [0.57631579],\n",
       "       [0.14035088],\n",
       "       [0.55438596],\n",
       "       [0.64385965],\n",
       "       [0.45087719],\n",
       "       [0.08157895],\n",
       "       [0.28947368],\n",
       "       [0.51754386],\n",
       "       [0.63421053],\n",
       "       [0.09561404],\n",
       "       [0.46403509],\n",
       "       [0.05175439],\n",
       "       [0.19298246],\n",
       "       [0.44912281],\n",
       "       [0.40263158],\n",
       "       [0.43684211],\n",
       "       [0.88508772],\n",
       "       [0.1877193 ],\n",
       "       [0.15701754],\n",
       "       [0.04649123],\n",
       "       [0.51754386],\n",
       "       [0.26052632],\n",
       "       [0.20350877],\n",
       "       [0.2245614 ],\n",
       "       [0.04824561],\n",
       "       [0.49561404],\n",
       "       [0.20350877],\n",
       "       [0.02105263],\n",
       "       [0.09385965],\n",
       "       [0.30263158],\n",
       "       [0.4622807 ],\n",
       "       [0.2245614 ],\n",
       "       [0.12982456],\n",
       "       [0.69473684],\n",
       "       [0.19561404],\n",
       "       [0.40526316],\n",
       "       [0.44210526],\n",
       "       [0.13684211],\n",
       "       [0.10877193],\n",
       "       [0.65087719],\n",
       "       [0.22719298],\n",
       "       [0.44385965],\n",
       "       [0.08070175],\n",
       "       [0.02807018],\n",
       "       [0.37807018],\n",
       "       [0.07631579],\n",
       "       [0.37719298],\n",
       "       [0.01842105],\n",
       "       [0.39561404],\n",
       "       [0.5754386 ],\n",
       "       [0.0745614 ],\n",
       "       [0.08157895],\n",
       "       [0.52368421],\n",
       "       [0.17982456],\n",
       "       [0.01491228],\n",
       "       [0.11315789],\n",
       "       [0.66315789],\n",
       "       [0.33245614],\n",
       "       [0.30175439],\n",
       "       [0.34122807],\n",
       "       [0.07894737],\n",
       "       [0.07631579],\n",
       "       [0.38859649],\n",
       "       [0.10438596],\n",
       "       [0.18070175],\n",
       "       [0.3245614 ],\n",
       "       [0.42719298],\n",
       "       [0.1245614 ],\n",
       "       [0.33070175],\n",
       "       [0.08333333],\n",
       "       [0.05      ],\n",
       "       [0.44298246],\n",
       "       [0.21315789],\n",
       "       [0.39649123],\n",
       "       [0.30350877],\n",
       "       [0.26929825],\n",
       "       [0.43245614],\n",
       "       [0.2245614 ],\n",
       "       [0.06491228],\n",
       "       [0.04736842],\n",
       "       [0.74385965],\n",
       "       [0.18947368],\n",
       "       [0.17017544],\n",
       "       [0.50526316],\n",
       "       [0.05614035],\n",
       "       [0.16140351],\n",
       "       [0.41578947],\n",
       "       [0.14912281],\n",
       "       [0.1122807 ],\n",
       "       [0.11491228],\n",
       "       [0.36666667],\n",
       "       [0.17807018],\n",
       "       [0.30877193],\n",
       "       [0.20789474],\n",
       "       [0.15438596],\n",
       "       [0.07280702],\n",
       "       [0.24035088],\n",
       "       [0.26052632],\n",
       "       [0.62982456],\n",
       "       [0.26315789],\n",
       "       [0.17192982],\n",
       "       [0.23333333],\n",
       "       [0.15964912],\n",
       "       [0.03245614],\n",
       "       [0.20526316],\n",
       "       [0.05087719],\n",
       "       [0.05263158],\n",
       "       [0.27719298],\n",
       "       [0.03157895],\n",
       "       [0.05263158],\n",
       "       [0.12105263],\n",
       "       [0.07105263],\n",
       "       [0.05614035],\n",
       "       [0.58070175],\n",
       "       [0.07631579]])"
      ]
     },
     "execution_count": 25,
     "metadata": {},
     "output_type": "execute_result"
    }
   ],
   "source": [
    "X_maxabs"
   ]
  },
  {
   "cell_type": "code",
   "execution_count": 26,
   "id": "91df16df",
   "metadata": {},
   "outputs": [
    {
     "data": {
      "text/plain": [
       "array([[1.00000000e+00, 6.07017544e-01, 3.68470299e-01],\n",
       "       [1.00000000e+00, 3.95614035e-01, 1.56510465e-01],\n",
       "       [1.00000000e+00, 6.07894737e-01, 3.69536011e-01],\n",
       "       [1.00000000e+00, 5.13157895e-01, 2.63331025e-01],\n",
       "       [1.00000000e+00, 5.12280702e-01, 2.62431517e-01],\n",
       "       [1.00000000e+00, 6.57894737e-01, 4.32825485e-01],\n",
       "       [1.00000000e+00, 2.06140351e-01, 4.24938443e-02],\n",
       "       [1.00000000e+00, 1.01754386e-01, 1.03539551e-02],\n",
       "       [1.00000000e+00, 8.77192982e-03, 7.69467528e-05],\n",
       "       [1.00000000e+00, 1.85964912e-01, 3.45829486e-02],\n",
       "       [1.00000000e+00, 2.12280702e-01, 4.50630963e-02],\n",
       "       [1.00000000e+00, 3.50877193e-02, 1.23114805e-03],\n",
       "       [1.00000000e+00, 5.78070175e-01, 3.34165128e-01],\n",
       "       [1.00000000e+00, 6.31578947e-02, 3.98891967e-03],\n",
       "       [1.00000000e+00, 4.03508772e-01, 1.62819329e-01],\n",
       "       [1.00000000e+00, 4.64035088e-01, 2.15328563e-01],\n",
       "       [1.00000000e+00, 1.00000000e+00, 1.00000000e+00],\n",
       "       [1.00000000e+00, 4.89473684e-01, 2.39584488e-01],\n",
       "       [1.00000000e+00, 1.60526316e-01, 2.57686981e-02],\n",
       "       [1.00000000e+00, 1.67543860e-01, 2.80709449e-02],\n",
       "       [1.00000000e+00, 4.68421053e-01, 2.19418283e-01],\n",
       "       [1.00000000e+00, 2.06140351e-01, 4.24938443e-02],\n",
       "       [1.00000000e+00, 4.35087719e-01, 1.89301323e-01],\n",
       "       [1.00000000e+00, 2.29824561e-01, 5.28193290e-02],\n",
       "       [1.00000000e+00, 1.60526316e-01, 2.57686981e-02],\n",
       "       [1.00000000e+00, 1.71052632e-01, 2.92590028e-02],\n",
       "       [1.00000000e+00, 1.10526316e-01, 1.22160665e-02],\n",
       "       [1.00000000e+00, 2.00877193e-01, 4.03516467e-02],\n",
       "       [1.00000000e+00, 2.00877193e-01, 4.03516467e-02],\n",
       "       [1.00000000e+00, 3.57894737e-01, 1.28088643e-01],\n",
       "       [1.00000000e+00, 3.78947368e-01, 1.43601108e-01],\n",
       "       [1.00000000e+00, 3.38596491e-01, 1.14647584e-01],\n",
       "       [1.00000000e+00, 2.63157895e-01, 6.92520776e-02],\n",
       "       [1.00000000e+00, 2.63157895e-03, 6.92520776e-06],\n",
       "       [1.00000000e+00, 6.49122807e-02, 4.21360419e-03],\n",
       "       [1.00000000e+00, 7.45614035e-02, 5.55940289e-03],\n",
       "       [1.00000000e+00, 4.38596491e-02, 1.92366882e-03],\n",
       "       [1.00000000e+00, 4.00877193e-01, 1.60702524e-01],\n",
       "       [1.00000000e+00, 3.07894737e-01, 9.47991690e-02],\n",
       "       [1.00000000e+00, 2.80701754e-01, 7.87934749e-02],\n",
       "       [1.00000000e+00, 2.77192982e-01, 7.68359495e-02],\n",
       "       [1.00000000e+00, 3.39473684e-01, 1.15242382e-01],\n",
       "       [1.00000000e+00, 1.57894737e-02, 2.49307479e-04],\n",
       "       [1.00000000e+00, 2.31578947e-01, 5.36288089e-02],\n",
       "       [1.00000000e+00, 3.79824561e-01, 1.44266697e-01],\n",
       "       [1.00000000e+00, 2.76315789e-01, 7.63504155e-02],\n",
       "       [1.00000000e+00, 3.13157895e-01, 9.80678670e-02],\n",
       "       [1.00000000e+00, 1.62280702e-01, 2.63350262e-02],\n",
       "       [1.00000000e+00, 4.37719298e-01, 1.91598184e-01],\n",
       "       [1.00000000e+00, 3.22807018e-01, 1.04204371e-01],\n",
       "       [1.00000000e+00, 3.03508772e-01, 9.21175746e-02],\n",
       "       [1.00000000e+00, 3.15789474e-02, 9.97229917e-04],\n",
       "       [1.00000000e+00, 3.47368421e-01, 1.20664820e-01],\n",
       "       [1.00000000e+00, 5.14912281e-01, 2.65134657e-01],\n",
       "       [1.00000000e+00, 1.39473684e-01, 1.94529086e-02],\n",
       "       [1.00000000e+00, 5.26315789e-01, 2.77008310e-01],\n",
       "       [1.00000000e+00, 3.63157895e-01, 1.31883657e-01],\n",
       "       [1.00000000e+00, 1.45614035e-01, 2.12034472e-02],\n",
       "       [1.00000000e+00, 3.30701754e-01, 1.09363650e-01],\n",
       "       [1.00000000e+00, 8.15789474e-02, 6.65512465e-03],\n",
       "       [1.00000000e+00, 1.87719298e-01, 3.52385349e-02],\n",
       "       [1.00000000e+00, 4.79824561e-01, 2.30231610e-01],\n",
       "       [1.00000000e+00, 2.39473684e-01, 5.73476454e-02],\n",
       "       [1.00000000e+00, 7.36842105e-02, 5.42936288e-03],\n",
       "       [1.00000000e+00, 2.53508772e-01, 6.42666974e-02],\n",
       "       [1.00000000e+00, 7.89473684e-03, 6.23268698e-05],\n",
       "       [1.00000000e+00, 1.92982456e-02, 3.72422284e-04],\n",
       "       [1.00000000e+00, 8.94736842e-02, 8.00554017e-03],\n",
       "       [1.00000000e+00, 9.64912281e-02, 9.31055709e-03],\n",
       "       [1.00000000e+00, 2.38596491e-01, 5.69282856e-02],\n",
       "       [1.00000000e+00, 3.39473684e-01, 1.15242382e-01],\n",
       "       [1.00000000e+00, 2.78070175e-01, 7.73230225e-02],\n",
       "       [1.00000000e+00, 1.69298246e-01, 2.86618960e-02],\n",
       "       [1.00000000e+00, 2.74561404e-01, 7.53839643e-02],\n",
       "       [1.00000000e+00, 1.14912281e-01, 1.32048323e-02],\n",
       "       [1.00000000e+00, 7.84210526e-01, 6.14986150e-01],\n",
       "       [1.00000000e+00, 1.81578947e-01, 3.29709141e-02],\n",
       "       [1.00000000e+00, 1.24561404e-01, 1.55155432e-02],\n",
       "       [1.00000000e+00, 8.24561404e-02, 6.79901508e-03],\n",
       "       [1.00000000e+00, 2.02631579e-01, 4.10595568e-02],\n",
       "       [1.00000000e+00, 1.95614035e-01, 3.82648507e-02],\n",
       "       [1.00000000e+00, 3.23684211e-01, 1.04771468e-01],\n",
       "       [1.00000000e+00, 2.85087719e-01, 8.12750077e-02],\n",
       "       [1.00000000e+00, 3.12280702e-01, 9.75192367e-02],\n",
       "       [1.00000000e+00, 2.96491228e-01, 8.79070483e-02],\n",
       "       [1.00000000e+00, 5.76315789e-01, 3.32139889e-01],\n",
       "       [1.00000000e+00, 1.40350877e-01, 1.96983687e-02],\n",
       "       [1.00000000e+00, 5.54385965e-01, 3.07343798e-01],\n",
       "       [1.00000000e+00, 6.43859649e-01, 4.14555248e-01],\n",
       "       [1.00000000e+00, 4.50877193e-01, 2.03290243e-01],\n",
       "       [1.00000000e+00, 8.15789474e-02, 6.65512465e-03],\n",
       "       [1.00000000e+00, 2.89473684e-01, 8.37950139e-02],\n",
       "       [1.00000000e+00, 5.17543860e-01, 2.67851647e-01],\n",
       "       [1.00000000e+00, 6.34210526e-01, 4.02222992e-01],\n",
       "       [1.00000000e+00, 9.56140351e-02, 9.14204371e-03],\n",
       "       [1.00000000e+00, 4.64035088e-01, 2.15328563e-01],\n",
       "       [1.00000000e+00, 5.17543860e-02, 2.67851647e-03],\n",
       "       [1.00000000e+00, 1.92982456e-01, 3.72422284e-02],\n",
       "       [1.00000000e+00, 4.49122807e-01, 2.01711296e-01],\n",
       "       [1.00000000e+00, 4.02631579e-01, 1.62112188e-01],\n",
       "       [1.00000000e+00, 4.36842105e-01, 1.90831025e-01],\n",
       "       [1.00000000e+00, 8.85087719e-01, 7.83380271e-01],\n",
       "       [1.00000000e+00, 1.87719298e-01, 3.52385349e-02],\n",
       "       [1.00000000e+00, 1.57017544e-01, 2.46545091e-02],\n",
       "       [1.00000000e+00, 4.64912281e-02, 2.16143429e-03],\n",
       "       [1.00000000e+00, 5.17543860e-01, 2.67851647e-01],\n",
       "       [1.00000000e+00, 2.60526316e-01, 6.78739612e-02],\n",
       "       [1.00000000e+00, 2.03508772e-01, 4.14158203e-02],\n",
       "       [1.00000000e+00, 2.24561404e-01, 5.04278239e-02],\n",
       "       [1.00000000e+00, 4.82456140e-02, 2.32763927e-03],\n",
       "       [1.00000000e+00, 4.95614035e-01, 2.45633272e-01],\n",
       "       [1.00000000e+00, 2.03508772e-01, 4.14158203e-02],\n",
       "       [1.00000000e+00, 2.10526316e-02, 4.43213296e-04],\n",
       "       [1.00000000e+00, 9.38596491e-02, 8.80963373e-03],\n",
       "       [1.00000000e+00, 3.02631579e-01, 9.15858726e-02],\n",
       "       [1.00000000e+00, 4.62280702e-01, 2.13703447e-01],\n",
       "       [1.00000000e+00, 2.24561404e-01, 5.04278239e-02],\n",
       "       [1.00000000e+00, 1.29824561e-01, 1.68544167e-02],\n",
       "       [1.00000000e+00, 6.94736842e-01, 4.82659280e-01],\n",
       "       [1.00000000e+00, 1.95614035e-01, 3.82648507e-02],\n",
       "       [1.00000000e+00, 4.05263158e-01, 1.64238227e-01],\n",
       "       [1.00000000e+00, 4.42105263e-01, 1.95457064e-01],\n",
       "       [1.00000000e+00, 1.36842105e-01, 1.87257618e-02],\n",
       "       [1.00000000e+00, 1.08771930e-01, 1.18313327e-02],\n",
       "       [1.00000000e+00, 6.50877193e-01, 4.23641120e-01],\n",
       "       [1.00000000e+00, 2.27192982e-01, 5.16166513e-02],\n",
       "       [1.00000000e+00, 4.43859649e-01, 1.97011388e-01],\n",
       "       [1.00000000e+00, 8.07017544e-02, 6.51277316e-03],\n",
       "       [1.00000000e+00, 2.80701754e-02, 7.87934749e-04],\n",
       "       [1.00000000e+00, 3.78070175e-01, 1.42937058e-01],\n",
       "       [1.00000000e+00, 7.63157895e-02, 5.82409972e-03],\n",
       "       [1.00000000e+00, 3.77192982e-01, 1.42274546e-01],\n",
       "       [1.00000000e+00, 1.84210526e-02, 3.39335180e-04],\n",
       "       [1.00000000e+00, 3.95614035e-01, 1.56510465e-01],\n",
       "       [1.00000000e+00, 5.75438596e-01, 3.31129578e-01],\n",
       "       [1.00000000e+00, 7.45614035e-02, 5.55940289e-03],\n",
       "       [1.00000000e+00, 8.15789474e-02, 6.65512465e-03],\n",
       "       [1.00000000e+00, 5.23684211e-01, 2.74245152e-01],\n",
       "       [1.00000000e+00, 1.79824561e-01, 3.23368729e-02],\n",
       "       [1.00000000e+00, 1.49122807e-02, 2.22376116e-04],\n",
       "       [1.00000000e+00, 1.13157895e-01, 1.28047091e-02],\n",
       "       [1.00000000e+00, 6.63157895e-01, 4.39778393e-01],\n",
       "       [1.00000000e+00, 3.32456140e-01, 1.10527085e-01],\n",
       "       [1.00000000e+00, 3.01754386e-01, 9.10557094e-02],\n",
       "       [1.00000000e+00, 3.41228070e-01, 1.16436596e-01],\n",
       "       [1.00000000e+00, 7.89473684e-02, 6.23268698e-03],\n",
       "       [1.00000000e+00, 7.63157895e-02, 5.82409972e-03],\n",
       "       [1.00000000e+00, 3.88596491e-01, 1.51007233e-01],\n",
       "       [1.00000000e+00, 1.04385965e-01, 1.08964297e-02],\n",
       "       [1.00000000e+00, 1.80701754e-01, 3.26531240e-02],\n",
       "       [1.00000000e+00, 3.24561404e-01, 1.05340105e-01],\n",
       "       [1.00000000e+00, 4.27192982e-01, 1.82493844e-01],\n",
       "       [1.00000000e+00, 1.24561404e-01, 1.55155432e-02],\n",
       "       [1.00000000e+00, 3.30701754e-01, 1.09363650e-01],\n",
       "       [1.00000000e+00, 8.33333333e-02, 6.94444444e-03],\n",
       "       [1.00000000e+00, 5.00000000e-02, 2.50000000e-03],\n",
       "       [1.00000000e+00, 4.42982456e-01, 1.96233456e-01],\n",
       "       [1.00000000e+00, 2.13157895e-01, 4.54362881e-02],\n",
       "       [1.00000000e+00, 3.96491228e-01, 1.57205294e-01],\n",
       "       [1.00000000e+00, 3.03508772e-01, 9.21175746e-02],\n",
       "       [1.00000000e+00, 2.69298246e-01, 7.25215451e-02],\n",
       "       [1.00000000e+00, 4.32456140e-01, 1.87018313e-01],\n",
       "       [1.00000000e+00, 2.24561404e-01, 5.04278239e-02],\n",
       "       [1.00000000e+00, 6.49122807e-02, 4.21360419e-03],\n",
       "       [1.00000000e+00, 4.73684211e-02, 2.24376731e-03],\n",
       "       [1.00000000e+00, 7.43859649e-01, 5.53327178e-01],\n",
       "       [1.00000000e+00, 1.89473684e-01, 3.59002770e-02],\n",
       "       [1.00000000e+00, 1.70175439e-01, 2.89596799e-02],\n",
       "       [1.00000000e+00, 5.05263158e-01, 2.55290859e-01],\n",
       "       [1.00000000e+00, 5.61403509e-02, 3.15173900e-03],\n",
       "       [1.00000000e+00, 1.61403509e-01, 2.60510926e-02],\n",
       "       [1.00000000e+00, 4.15789474e-01, 1.72880886e-01],\n",
       "       [1.00000000e+00, 1.49122807e-01, 2.22376116e-02],\n",
       "       [1.00000000e+00, 1.12280702e-01, 1.26069560e-02],\n",
       "       [1.00000000e+00, 1.14912281e-01, 1.32048323e-02],\n",
       "       [1.00000000e+00, 3.66666667e-01, 1.34444444e-01],\n",
       "       [1.00000000e+00, 1.78070175e-01, 3.17089874e-02],\n",
       "       [1.00000000e+00, 3.08771930e-01, 9.53401046e-02],\n",
       "       [1.00000000e+00, 2.07894737e-01, 4.32202216e-02],\n",
       "       [1.00000000e+00, 1.54385965e-01, 2.38350262e-02],\n",
       "       [1.00000000e+00, 7.28070175e-02, 5.30086180e-03],\n",
       "       [1.00000000e+00, 2.40350877e-01, 5.77685442e-02],\n",
       "       [1.00000000e+00, 2.60526316e-01, 6.78739612e-02],\n",
       "       [1.00000000e+00, 6.29824561e-01, 3.96678978e-01],\n",
       "       [1.00000000e+00, 2.63157895e-01, 6.92520776e-02],\n",
       "       [1.00000000e+00, 1.71929825e-01, 2.95598646e-02],\n",
       "       [1.00000000e+00, 2.33333333e-01, 5.44444444e-02],\n",
       "       [1.00000000e+00, 1.59649123e-01, 2.54878424e-02],\n",
       "       [1.00000000e+00, 3.24561404e-02, 1.05340105e-03],\n",
       "       [1.00000000e+00, 2.05263158e-01, 4.21329640e-02],\n",
       "       [1.00000000e+00, 5.08771930e-02, 2.58848877e-03],\n",
       "       [1.00000000e+00, 5.26315789e-02, 2.77008310e-03],\n",
       "       [1.00000000e+00, 2.77192982e-01, 7.68359495e-02],\n",
       "       [1.00000000e+00, 3.15789474e-02, 9.97229917e-04],\n",
       "       [1.00000000e+00, 5.26315789e-02, 2.77008310e-03],\n",
       "       [1.00000000e+00, 1.21052632e-01, 1.46537396e-02],\n",
       "       [1.00000000e+00, 7.10526316e-02, 5.04847645e-03],\n",
       "       [1.00000000e+00, 5.61403509e-02, 3.15173900e-03],\n",
       "       [1.00000000e+00, 5.80701754e-01, 3.37214528e-01],\n",
       "       [1.00000000e+00, 7.63157895e-02, 5.82409972e-03]])"
      ]
     },
     "execution_count": 26,
     "metadata": {},
     "output_type": "execute_result"
    }
   ],
   "source": [
    "from sklearn.preprocessing import PolynomialFeatures\n",
    "poly = PolynomialFeatures(2)\n",
    "X_poly = poly.fit_transform(X_maxabs)\n",
    "X_poly"
   ]
  },
  {
   "cell_type": "code",
   "execution_count": 27,
   "id": "b6358bfd",
   "metadata": {},
   "outputs": [],
   "source": [
    "X_train,X_test, y_train, y_test = train_test_split(X_poly,y, random_state=1)"
   ]
  },
  {
   "cell_type": "code",
   "execution_count": 28,
   "id": "631a3cec",
   "metadata": {},
   "outputs": [
    {
     "data": {
      "text/html": [
       "<style>#sk-container-id-2 {color: black;background-color: white;}#sk-container-id-2 pre{padding: 0;}#sk-container-id-2 div.sk-toggleable {background-color: white;}#sk-container-id-2 label.sk-toggleable__label {cursor: pointer;display: block;width: 100%;margin-bottom: 0;padding: 0.3em;box-sizing: border-box;text-align: center;}#sk-container-id-2 label.sk-toggleable__label-arrow:before {content: \"▸\";float: left;margin-right: 0.25em;color: #696969;}#sk-container-id-2 label.sk-toggleable__label-arrow:hover:before {color: black;}#sk-container-id-2 div.sk-estimator:hover label.sk-toggleable__label-arrow:before {color: black;}#sk-container-id-2 div.sk-toggleable__content {max-height: 0;max-width: 0;overflow: hidden;text-align: left;background-color: #f0f8ff;}#sk-container-id-2 div.sk-toggleable__content pre {margin: 0.2em;color: black;border-radius: 0.25em;background-color: #f0f8ff;}#sk-container-id-2 input.sk-toggleable__control:checked~div.sk-toggleable__content {max-height: 200px;max-width: 100%;overflow: auto;}#sk-container-id-2 input.sk-toggleable__control:checked~label.sk-toggleable__label-arrow:before {content: \"▾\";}#sk-container-id-2 div.sk-estimator input.sk-toggleable__control:checked~label.sk-toggleable__label {background-color: #d4ebff;}#sk-container-id-2 div.sk-label input.sk-toggleable__control:checked~label.sk-toggleable__label {background-color: #d4ebff;}#sk-container-id-2 input.sk-hidden--visually {border: 0;clip: rect(1px 1px 1px 1px);clip: rect(1px, 1px, 1px, 1px);height: 1px;margin: -1px;overflow: hidden;padding: 0;position: absolute;width: 1px;}#sk-container-id-2 div.sk-estimator {font-family: monospace;background-color: #f0f8ff;border: 1px dotted black;border-radius: 0.25em;box-sizing: border-box;margin-bottom: 0.5em;}#sk-container-id-2 div.sk-estimator:hover {background-color: #d4ebff;}#sk-container-id-2 div.sk-parallel-item::after {content: \"\";width: 100%;border-bottom: 1px solid gray;flex-grow: 1;}#sk-container-id-2 div.sk-label:hover label.sk-toggleable__label {background-color: #d4ebff;}#sk-container-id-2 div.sk-serial::before {content: \"\";position: absolute;border-left: 1px solid gray;box-sizing: border-box;top: 0;bottom: 0;left: 50%;z-index: 0;}#sk-container-id-2 div.sk-serial {display: flex;flex-direction: column;align-items: center;background-color: white;padding-right: 0.2em;padding-left: 0.2em;position: relative;}#sk-container-id-2 div.sk-item {position: relative;z-index: 1;}#sk-container-id-2 div.sk-parallel {display: flex;align-items: stretch;justify-content: center;background-color: white;position: relative;}#sk-container-id-2 div.sk-item::before, #sk-container-id-2 div.sk-parallel-item::before {content: \"\";position: absolute;border-left: 1px solid gray;box-sizing: border-box;top: 0;bottom: 0;left: 50%;z-index: -1;}#sk-container-id-2 div.sk-parallel-item {display: flex;flex-direction: column;z-index: 1;position: relative;background-color: white;}#sk-container-id-2 div.sk-parallel-item:first-child::after {align-self: flex-end;width: 50%;}#sk-container-id-2 div.sk-parallel-item:last-child::after {align-self: flex-start;width: 50%;}#sk-container-id-2 div.sk-parallel-item:only-child::after {width: 0;}#sk-container-id-2 div.sk-dashed-wrapped {border: 1px dashed gray;margin: 0 0.4em 0.5em 0.4em;box-sizing: border-box;padding-bottom: 0.4em;background-color: white;}#sk-container-id-2 div.sk-label label {font-family: monospace;font-weight: bold;display: inline-block;line-height: 1.2em;}#sk-container-id-2 div.sk-label-container {text-align: center;}#sk-container-id-2 div.sk-container {/* jupyter's `normalize.less` sets `[hidden] { display: none; }` but bootstrap.min.css set `[hidden] { display: none !important; }` so we also need the `!important` here to be able to override the default hidden behavior on the sphinx rendered scikit-learn.org. See: https://github.com/scikit-learn/scikit-learn/issues/21755 */display: inline-block !important;position: relative;}#sk-container-id-2 div.sk-text-repr-fallback {display: none;}</style><div id=\"sk-container-id-2\" class=\"sk-top-container\"><div class=\"sk-text-repr-fallback\"><pre>LinearRegression()</pre><b>In a Jupyter environment, please rerun this cell to show the HTML representation or trust the notebook. <br />On GitHub, the HTML representation is unable to render, please try loading this page with nbviewer.org.</b></div><div class=\"sk-container\" hidden><div class=\"sk-item\"><div class=\"sk-estimator sk-toggleable\"><input class=\"sk-toggleable__control sk-hidden--visually\" id=\"sk-estimator-id-2\" type=\"checkbox\" checked><label for=\"sk-estimator-id-2\" class=\"sk-toggleable__label sk-toggleable__label-arrow\">LinearRegression</label><div class=\"sk-toggleable__content\"><pre>LinearRegression()</pre></div></div></div></div></div>"
      ],
      "text/plain": [
       "LinearRegression()"
      ]
     },
     "execution_count": 28,
     "metadata": {},
     "output_type": "execute_result"
    }
   ],
   "source": [
    "lr_poly = LinearRegression()\n",
    "lr_poly.fit(X_train, y_train)"
   ]
  },
  {
   "cell_type": "code",
   "execution_count": 29,
   "id": "4f719dd7",
   "metadata": {},
   "outputs": [
    {
     "name": "stdout",
     "output_type": "stream",
     "text": [
      "12.441580506501381\n",
      "[0.         1.37334018 9.84961912]\n"
     ]
    }
   ],
   "source": [
    "print(lr_poly.intercept_)\n",
    "print(lr_poly.coef_)"
   ]
  },
  {
   "cell_type": "code",
   "execution_count": 30,
   "id": "528f46f6",
   "metadata": {},
   "outputs": [
    {
     "data": {
      "text/plain": [
       "26.806701556925375"
      ]
     },
     "execution_count": 30,
     "metadata": {},
     "output_type": "execute_result"
    }
   ],
   "source": [
    "y_pred = lr_poly.predict(X_test) \n",
    "mean_squared_error(y_test, y_pred)"
   ]
  },
  {
   "attachments": {
    "image.png": {
     "image/png": "[encoded data removed]"
    }
   },
   "cell_type": "markdown",
   "id": "a290d339",
   "metadata": {},
   "source": [
    "![image.png](attachment:image.png)"
   ]
  },
  {
   "cell_type": "code",
   "execution_count": 31,
   "id": "bf00ae38",
   "metadata": {},
   "outputs": [
    {
     "data": {
      "text/html": [
       "<style>#sk-container-id-3 {color: black;background-color: white;}#sk-container-id-3 pre{padding: 0;}#sk-container-id-3 div.sk-toggleable {background-color: white;}#sk-container-id-3 label.sk-toggleable__label {cursor: pointer;display: block;width: 100%;margin-bottom: 0;padding: 0.3em;box-sizing: border-box;text-align: center;}#sk-container-id-3 label.sk-toggleable__label-arrow:before {content: \"▸\";float: left;margin-right: 0.25em;color: #696969;}#sk-container-id-3 label.sk-toggleable__label-arrow:hover:before {color: black;}#sk-container-id-3 div.sk-estimator:hover label.sk-toggleable__label-arrow:before {color: black;}#sk-container-id-3 div.sk-toggleable__content {max-height: 0;max-width: 0;overflow: hidden;text-align: left;background-color: #f0f8ff;}#sk-container-id-3 div.sk-toggleable__content pre {margin: 0.2em;color: black;border-radius: 0.25em;background-color: #f0f8ff;}#sk-container-id-3 input.sk-toggleable__control:checked~div.sk-toggleable__content {max-height: 200px;max-width: 100%;overflow: auto;}#sk-container-id-3 input.sk-toggleable__control:checked~label.sk-toggleable__label-arrow:before {content: \"▾\";}#sk-container-id-3 div.sk-estimator input.sk-toggleable__control:checked~label.sk-toggleable__label {background-color: #d4ebff;}#sk-container-id-3 div.sk-label input.sk-toggleable__control:checked~label.sk-toggleable__label {background-color: #d4ebff;}#sk-container-id-3 input.sk-hidden--visually {border: 0;clip: rect(1px 1px 1px 1px);clip: rect(1px, 1px, 1px, 1px);height: 1px;margin: -1px;overflow: hidden;padding: 0;position: absolute;width: 1px;}#sk-container-id-3 div.sk-estimator {font-family: monospace;background-color: #f0f8ff;border: 1px dotted black;border-radius: 0.25em;box-sizing: border-box;margin-bottom: 0.5em;}#sk-container-id-3 div.sk-estimator:hover {background-color: #d4ebff;}#sk-container-id-3 div.sk-parallel-item::after {content: \"\";width: 100%;border-bottom: 1px solid gray;flex-grow: 1;}#sk-container-id-3 div.sk-label:hover label.sk-toggleable__label {background-color: #d4ebff;}#sk-container-id-3 div.sk-serial::before {content: \"\";position: absolute;border-left: 1px solid gray;box-sizing: border-box;top: 0;bottom: 0;left: 50%;z-index: 0;}#sk-container-id-3 div.sk-serial {display: flex;flex-direction: column;align-items: center;background-color: white;padding-right: 0.2em;padding-left: 0.2em;position: relative;}#sk-container-id-3 div.sk-item {position: relative;z-index: 1;}#sk-container-id-3 div.sk-parallel {display: flex;align-items: stretch;justify-content: center;background-color: white;position: relative;}#sk-container-id-3 div.sk-item::before, #sk-container-id-3 div.sk-parallel-item::before {content: \"\";position: absolute;border-left: 1px solid gray;box-sizing: border-box;top: 0;bottom: 0;left: 50%;z-index: -1;}#sk-container-id-3 div.sk-parallel-item {display: flex;flex-direction: column;z-index: 1;position: relative;background-color: white;}#sk-container-id-3 div.sk-parallel-item:first-child::after {align-self: flex-end;width: 50%;}#sk-container-id-3 div.sk-parallel-item:last-child::after {align-self: flex-start;width: 50%;}#sk-container-id-3 div.sk-parallel-item:only-child::after {width: 0;}#sk-container-id-3 div.sk-dashed-wrapped {border: 1px dashed gray;margin: 0 0.4em 0.5em 0.4em;box-sizing: border-box;padding-bottom: 0.4em;background-color: white;}#sk-container-id-3 div.sk-label label {font-family: monospace;font-weight: bold;display: inline-block;line-height: 1.2em;}#sk-container-id-3 div.sk-label-container {text-align: center;}#sk-container-id-3 div.sk-container {/* jupyter's `normalize.less` sets `[hidden] { display: none; }` but bootstrap.min.css set `[hidden] { display: none !important; }` so we also need the `!important` here to be able to override the default hidden behavior on the sphinx rendered scikit-learn.org. See: https://github.com/scikit-learn/scikit-learn/issues/21755 */display: inline-block !important;position: relative;}#sk-container-id-3 div.sk-text-repr-fallback {display: none;}</style><div id=\"sk-container-id-3\" class=\"sk-top-container\"><div class=\"sk-text-repr-fallback\"><pre>Ridge()</pre><b>In a Jupyter environment, please rerun this cell to show the HTML representation or trust the notebook. <br />On GitHub, the HTML representation is unable to render, please try loading this page with nbviewer.org.</b></div><div class=\"sk-container\" hidden><div class=\"sk-item\"><div class=\"sk-estimator sk-toggleable\"><input class=\"sk-toggleable__control sk-hidden--visually\" id=\"sk-estimator-id-3\" type=\"checkbox\" checked><label for=\"sk-estimator-id-3\" class=\"sk-toggleable__label sk-toggleable__label-arrow\">Ridge</label><div class=\"sk-toggleable__content\"><pre>Ridge()</pre></div></div></div></div></div>"
      ],
      "text/plain": [
       "Ridge()"
      ]
     },
     "execution_count": 31,
     "metadata": {},
     "output_type": "execute_result"
    }
   ],
   "source": [
    "from sklearn.linear_model import Ridge\n",
    "lr_ridge = Ridge(alpha=1.0)\n",
    "lr_ridge.fit(X_train, y_train)"
   ]
  },
  {
   "cell_type": "code",
   "execution_count": 32,
   "id": "16bf483c",
   "metadata": {},
   "outputs": [
    {
     "name": "stdout",
     "output_type": "stream",
     "text": [
      "12.267941747587825\n",
      "[0.         4.25508987 4.23190934]\n"
     ]
    }
   ],
   "source": [
    "print(lr_ridge.intercept_)\n",
    "print(lr_ridge.coef_)"
   ]
  },
  {
   "cell_type": "code",
   "execution_count": 33,
   "id": "d15db3be",
   "metadata": {},
   "outputs": [
    {
     "data": {
      "text/plain": [
       "25.379015302641687"
      ]
     },
     "execution_count": 33,
     "metadata": {},
     "output_type": "execute_result"
    }
   ],
   "source": [
    "y_pred = lr_ridge.predict(X_test) \n",
    "mean_squared_error(y_test, y_pred)"
   ]
  },
  {
   "cell_type": "markdown",
   "id": "42518a62",
   "metadata": {},
   "source": [
    "# SVR"
   ]
  },
  {
   "cell_type": "code",
   "execution_count": 36,
   "id": "baf7b6e0",
   "metadata": {},
   "outputs": [],
   "source": [
    "from sklearn.svm import SVR\n",
    "svr_rbf = SVR(kernel=\"rbf\", C=100, gamma=0.1, epsilon=0.1)"
   ]
  },
  {
   "cell_type": "code",
   "execution_count": 37,
   "id": "8d4d7a28",
   "metadata": {},
   "outputs": [
    {
     "data": {
      "text/html": [
       "<style>#sk-container-id-4 {color: black;background-color: white;}#sk-container-id-4 pre{padding: 0;}#sk-container-id-4 div.sk-toggleable {background-color: white;}#sk-container-id-4 label.sk-toggleable__label {cursor: pointer;display: block;width: 100%;margin-bottom: 0;padding: 0.3em;box-sizing: border-box;text-align: center;}#sk-container-id-4 label.sk-toggleable__label-arrow:before {content: \"▸\";float: left;margin-right: 0.25em;color: #696969;}#sk-container-id-4 label.sk-toggleable__label-arrow:hover:before {color: black;}#sk-container-id-4 div.sk-estimator:hover label.sk-toggleable__label-arrow:before {color: black;}#sk-container-id-4 div.sk-toggleable__content {max-height: 0;max-width: 0;overflow: hidden;text-align: left;background-color: #f0f8ff;}#sk-container-id-4 div.sk-toggleable__content pre {margin: 0.2em;color: black;border-radius: 0.25em;background-color: #f0f8ff;}#sk-container-id-4 input.sk-toggleable__control:checked~div.sk-toggleable__content {max-height: 200px;max-width: 100%;overflow: auto;}#sk-container-id-4 input.sk-toggleable__control:checked~label.sk-toggleable__label-arrow:before {content: \"▾\";}#sk-container-id-4 div.sk-estimator input.sk-toggleable__control:checked~label.sk-toggleable__label {background-color: #d4ebff;}#sk-container-id-4 div.sk-label input.sk-toggleable__control:checked~label.sk-toggleable__label {background-color: #d4ebff;}#sk-container-id-4 input.sk-hidden--visually {border: 0;clip: rect(1px 1px 1px 1px);clip: rect(1px, 1px, 1px, 1px);height: 1px;margin: -1px;overflow: hidden;padding: 0;position: absolute;width: 1px;}#sk-container-id-4 div.sk-estimator {font-family: monospace;background-color: #f0f8ff;border: 1px dotted black;border-radius: 0.25em;box-sizing: border-box;margin-bottom: 0.5em;}#sk-container-id-4 div.sk-estimator:hover {background-color: #d4ebff;}#sk-container-id-4 div.sk-parallel-item::after {content: \"\";width: 100%;border-bottom: 1px solid gray;flex-grow: 1;}#sk-container-id-4 div.sk-label:hover label.sk-toggleable__label {background-color: #d4ebff;}#sk-container-id-4 div.sk-serial::before {content: \"\";position: absolute;border-left: 1px solid gray;box-sizing: border-box;top: 0;bottom: 0;left: 50%;z-index: 0;}#sk-container-id-4 div.sk-serial {display: flex;flex-direction: column;align-items: center;background-color: white;padding-right: 0.2em;padding-left: 0.2em;position: relative;}#sk-container-id-4 div.sk-item {position: relative;z-index: 1;}#sk-container-id-4 div.sk-parallel {display: flex;align-items: stretch;justify-content: center;background-color: white;position: relative;}#sk-container-id-4 div.sk-item::before, #sk-container-id-4 div.sk-parallel-item::before {content: \"\";position: absolute;border-left: 1px solid gray;box-sizing: border-box;top: 0;bottom: 0;left: 50%;z-index: -1;}#sk-container-id-4 div.sk-parallel-item {display: flex;flex-direction: column;z-index: 1;position: relative;background-color: white;}#sk-container-id-4 div.sk-parallel-item:first-child::after {align-self: flex-end;width: 50%;}#sk-container-id-4 div.sk-parallel-item:last-child::after {align-self: flex-start;width: 50%;}#sk-container-id-4 div.sk-parallel-item:only-child::after {width: 0;}#sk-container-id-4 div.sk-dashed-wrapped {border: 1px dashed gray;margin: 0 0.4em 0.5em 0.4em;box-sizing: border-box;padding-bottom: 0.4em;background-color: white;}#sk-container-id-4 div.sk-label label {font-family: monospace;font-weight: bold;display: inline-block;line-height: 1.2em;}#sk-container-id-4 div.sk-label-container {text-align: center;}#sk-container-id-4 div.sk-container {/* jupyter's `normalize.less` sets `[hidden] { display: none; }` but bootstrap.min.css set `[hidden] { display: none !important; }` so we also need the `!important` here to be able to override the default hidden behavior on the sphinx rendered scikit-learn.org. See: https://github.com/scikit-learn/scikit-learn/issues/21755 */display: inline-block !important;position: relative;}#sk-container-id-4 div.sk-text-repr-fallback {display: none;}</style><div id=\"sk-container-id-4\" class=\"sk-top-container\"><div class=\"sk-text-repr-fallback\"><pre>SVR(C=100, gamma=0.1)</pre><b>In a Jupyter environment, please rerun this cell to show the HTML representation or trust the notebook. <br />On GitHub, the HTML representation is unable to render, please try loading this page with nbviewer.org.</b></div><div class=\"sk-container\" hidden><div class=\"sk-item\"><div class=\"sk-estimator sk-toggleable\"><input class=\"sk-toggleable__control sk-hidden--visually\" id=\"sk-estimator-id-4\" type=\"checkbox\" checked><label for=\"sk-estimator-id-4\" class=\"sk-toggleable__label sk-toggleable__label-arrow\">SVR</label><div class=\"sk-toggleable__content\"><pre>SVR(C=100, gamma=0.1)</pre></div></div></div></div></div>"
      ],
      "text/plain": [
       "SVR(C=100, gamma=0.1)"
      ]
     },
     "execution_count": 37,
     "metadata": {},
     "output_type": "execute_result"
    }
   ],
   "source": [
    "svr_rbf.fit(X_train, y_train)"
   ]
  },
  {
   "cell_type": "code",
   "execution_count": 38,
   "id": "2c8c6b76",
   "metadata": {},
   "outputs": [],
   "source": [
    "y_pred = svr_rbf.predict(X_test)"
   ]
  },
  {
   "cell_type": "code",
   "execution_count": 39,
   "id": "fb2430d1",
   "metadata": {},
   "outputs": [
    {
     "data": {
      "text/plain": [
       "30.608529874857727"
      ]
     },
     "execution_count": 39,
     "metadata": {},
     "output_type": "execute_result"
    }
   ],
   "source": [
    "mean_squared_error(y_test, y_pred)"
   ]
  },
  {
   "cell_type": "code",
   "execution_count": 42,
   "id": "2e72839b",
   "metadata": {},
   "outputs": [],
   "source": [
    "svr_linear = SVR(kernel = 'linear', C=100, epsilon=0.1)"
   ]
  },
  {
   "cell_type": "code",
   "execution_count": 43,
   "id": "5c6046ad",
   "metadata": {},
   "outputs": [
    {
     "data": {
      "text/html": [
       "<style>#sk-container-id-5 {color: black;background-color: white;}#sk-container-id-5 pre{padding: 0;}#sk-container-id-5 div.sk-toggleable {background-color: white;}#sk-container-id-5 label.sk-toggleable__label {cursor: pointer;display: block;width: 100%;margin-bottom: 0;padding: 0.3em;box-sizing: border-box;text-align: center;}#sk-container-id-5 label.sk-toggleable__label-arrow:before {content: \"▸\";float: left;margin-right: 0.25em;color: #696969;}#sk-container-id-5 label.sk-toggleable__label-arrow:hover:before {color: black;}#sk-container-id-5 div.sk-estimator:hover label.sk-toggleable__label-arrow:before {color: black;}#sk-container-id-5 div.sk-toggleable__content {max-height: 0;max-width: 0;overflow: hidden;text-align: left;background-color: #f0f8ff;}#sk-container-id-5 div.sk-toggleable__content pre {margin: 0.2em;color: black;border-radius: 0.25em;background-color: #f0f8ff;}#sk-container-id-5 input.sk-toggleable__control:checked~div.sk-toggleable__content {max-height: 200px;max-width: 100%;overflow: auto;}#sk-container-id-5 input.sk-toggleable__control:checked~label.sk-toggleable__label-arrow:before {content: \"▾\";}#sk-container-id-5 div.sk-estimator input.sk-toggleable__control:checked~label.sk-toggleable__label {background-color: #d4ebff;}#sk-container-id-5 div.sk-label input.sk-toggleable__control:checked~label.sk-toggleable__label {background-color: #d4ebff;}#sk-container-id-5 input.sk-hidden--visually {border: 0;clip: rect(1px 1px 1px 1px);clip: rect(1px, 1px, 1px, 1px);height: 1px;margin: -1px;overflow: hidden;padding: 0;position: absolute;width: 1px;}#sk-container-id-5 div.sk-estimator {font-family: monospace;background-color: #f0f8ff;border: 1px dotted black;border-radius: 0.25em;box-sizing: border-box;margin-bottom: 0.5em;}#sk-container-id-5 div.sk-estimator:hover {background-color: #d4ebff;}#sk-container-id-5 div.sk-parallel-item::after {content: \"\";width: 100%;border-bottom: 1px solid gray;flex-grow: 1;}#sk-container-id-5 div.sk-label:hover label.sk-toggleable__label {background-color: #d4ebff;}#sk-container-id-5 div.sk-serial::before {content: \"\";position: absolute;border-left: 1px solid gray;box-sizing: border-box;top: 0;bottom: 0;left: 50%;z-index: 0;}#sk-container-id-5 div.sk-serial {display: flex;flex-direction: column;align-items: center;background-color: white;padding-right: 0.2em;padding-left: 0.2em;position: relative;}#sk-container-id-5 div.sk-item {position: relative;z-index: 1;}#sk-container-id-5 div.sk-parallel {display: flex;align-items: stretch;justify-content: center;background-color: white;position: relative;}#sk-container-id-5 div.sk-item::before, #sk-container-id-5 div.sk-parallel-item::before {content: \"\";position: absolute;border-left: 1px solid gray;box-sizing: border-box;top: 0;bottom: 0;left: 50%;z-index: -1;}#sk-container-id-5 div.sk-parallel-item {display: flex;flex-direction: column;z-index: 1;position: relative;background-color: white;}#sk-container-id-5 div.sk-parallel-item:first-child::after {align-self: flex-end;width: 50%;}#sk-container-id-5 div.sk-parallel-item:last-child::after {align-self: flex-start;width: 50%;}#sk-container-id-5 div.sk-parallel-item:only-child::after {width: 0;}#sk-container-id-5 div.sk-dashed-wrapped {border: 1px dashed gray;margin: 0 0.4em 0.5em 0.4em;box-sizing: border-box;padding-bottom: 0.4em;background-color: white;}#sk-container-id-5 div.sk-label label {font-family: monospace;font-weight: bold;display: inline-block;line-height: 1.2em;}#sk-container-id-5 div.sk-label-container {text-align: center;}#sk-container-id-5 div.sk-container {/* jupyter's `normalize.less` sets `[hidden] { display: none; }` but bootstrap.min.css set `[hidden] { display: none !important; }` so we also need the `!important` here to be able to override the default hidden behavior on the sphinx rendered scikit-learn.org. See: https://github.com/scikit-learn/scikit-learn/issues/21755 */display: inline-block !important;position: relative;}#sk-container-id-5 div.sk-text-repr-fallback {display: none;}</style><div id=\"sk-container-id-5\" class=\"sk-top-container\"><div class=\"sk-text-repr-fallback\"><pre>SVR(C=100, kernel=&#x27;linear&#x27;)</pre><b>In a Jupyter environment, please rerun this cell to show the HTML representation or trust the notebook. <br />On GitHub, the HTML representation is unable to render, please try loading this page with nbviewer.org.</b></div><div class=\"sk-container\" hidden><div class=\"sk-item\"><div class=\"sk-estimator sk-toggleable\"><input class=\"sk-toggleable__control sk-hidden--visually\" id=\"sk-estimator-id-5\" type=\"checkbox\" checked><label for=\"sk-estimator-id-5\" class=\"sk-toggleable__label sk-toggleable__label-arrow\">SVR</label><div class=\"sk-toggleable__content\"><pre>SVR(C=100, kernel=&#x27;linear&#x27;)</pre></div></div></div></div></div>"
      ],
      "text/plain": [
       "SVR(C=100, kernel='linear')"
      ]
     },
     "execution_count": 43,
     "metadata": {},
     "output_type": "execute_result"
    }
   ],
   "source": [
    "svr_linear.fit(X_train, y_train)"
   ]
  },
  {
   "cell_type": "code",
   "execution_count": 45,
   "id": "b5ac5be9",
   "metadata": {},
   "outputs": [
    {
     "data": {
      "text/plain": [
       "31.301176466896894"
      ]
     },
     "execution_count": 45,
     "metadata": {},
     "output_type": "execute_result"
    }
   ],
   "source": [
    "y_pred = svr_linear.predict(X_test)\n",
    "mean_squared_error(y_test, y_pred)"
   ]
  },
  {
   "cell_type": "code",
   "execution_count": 11,
   "id": "30062dd8",
   "metadata": {},
   "outputs": [],
   "source": [
    "#Задачи: Линейная регрессия\n",
    "# 1. Разработать модель линейной регрессии, учитывающей все (в примере),2,3 столбца входных переменных. Рассчитать MSE. \n",
    "# Вывести значения коэффициентов модели.\n",
    "# 2. Разработать модель линейной регрессии, базисные функции - полином от исходных значений. Найти зависимость MSE от\n",
    "# максимальной степени полинома. (max_pow <= 10)\n",
    "# 3. Регуляризация. Гребневая регрессия. Выбрать оптимальную степень полинома, \n",
    "# построить график зависимости максимального модуля параметров, MSE \n",
    "# от величины alpha.\n",
    "# 4. Регуляризация. Лассо. Выбрать оптимальную степень полинома, \n",
    "# построить график зависимости максимального модуля параметров, MSE \n",
    "# от величины alpha. https://scikit-learn.org/stable/modules/generated/sklearn.linear_model.Lasso.html\n",
    "# linear_model.Lasso(alpha=0.1)"
   ]
  },
  {
   "cell_type": "code",
   "execution_count": 12,
   "id": "b1cca9d1",
   "metadata": {},
   "outputs": [],
   "source": [
    "#SVR\n",
    "# https://scikit-learn.org/stable/modules/generated/sklearn.svm.SVR.html#sklearn.svm.SVR\n",
    "# Исследовать точность модели регрессии при применении  ядерных функций 'poly', 'sigmoid'\n",
    "# Реализовать модель SVRб учитывающую все характеристики исходных данных, выбрать модель с оптимальными параметрами."
   ]
  },
  {
   "cell_type": "code",
   "execution_count": 13,
   "id": "1c2018a4",
   "metadata": {},
   "outputs": [],
   "source": [
    "import pandas as pd\n",
    "import numpy as np\n",
    "import seaborn as sns\n",
    "from sklearn.linear_model import LinearRegression, Ridge, Lasso\n",
    "from sklearn.svm import SVR\n",
    "from sklearn.metrics import mean_squared_error\n",
    "from sklearn.model_selection import train_test_split\n",
    "from sklearn.preprocessing import PolynomialFeatures, maxabs_scale\n",
    "import matplotlib.pyplot as plt\n",
    "plt.style.use(\"ggplot\")\n",
    "plt.rcParams['figure.figsize'] = (12, 8)\n",
    "\n",
    "# Загрузка и подготовка данных\n",
    "df = pd.read_csv(\"Advertising.csv\")\n",
    "df.drop(columns=df.columns[0], inplace=True)  # Удаление ненужного столбца\n"
   ]
  },
  {
   "cell_type": "code",
   "execution_count": 14,
   "id": "4acb4481-b283-479e-bf47-24a4513a930f",
   "metadata": {},
   "outputs": [
    {
     "name": "stdout",
     "output_type": "stream",
     "text": [
      "Модель с 1 признаками: Коэффициенты [0.04802945], Свободный член 6.91197261886872, MSE: 10.310069587813155\n",
      "Модель с 2 признаками: Коэффициенты [0.04660234 0.18117959], Свободный член 2.9272373202664834, MSE: 1.926276041866742\n",
      "Модель с 3 признаками: Коэффициенты [0.04656457 0.17915812 0.00345046], Свободный член 2.87696662231793, MSE: 1.9730456202283375\n"
     ]
    },
    {
     "data": {
      "image/png": "[encoded data removed]",
      "text/plain": [
       "<Figure size 1200x800 with 1 Axes>"
      ]
     },
     "metadata": {},
     "output_type": "display_data"
    }
   ],
   "source": [
    "features = ['TV', 'radio', 'newspaper']\n",
    "for i in range(1, len(features) + 1):\n",
    "    X = df[features[:i]]\n",
    "    y = df['sales']\n",
    "    X_train, X_test, y_train, y_test = train_test_split(X, y, random_state=1)\n",
    "    \n",
    "    model = LinearRegression()\n",
    "    model.fit(X_train, y_train)\n",
    "    y_pred = model.predict(X_test)\n",
    "    mse = mean_squared_error(y_test, y_pred)\n",
    "    \n",
    "    print(f\"Модель с {i} признаками: Коэффициенты {model.coef_}, Свободный член {model.intercept_}, MSE: {mse}\")\n",
    "\n",
    "X = df[['TV', 'radio', 'newspaper']]\n",
    "y = df['sales']\n",
    "mse_values = []\n",
    "\n",
    "for degree in range(1, 11):\n",
    "    poly = PolynomialFeatures(degree)\n",
    "    X_poly = poly.fit_transform(X)\n",
    "    \n",
    "    X_train, X_test, y_train, y_test = train_test_split(X_poly, y, random_state=1)\n",
    "    model = LinearRegression()\n",
    "    model.fit(X_train, y_train)\n",
    "    \n",
    "    y_pred = model.predict(X_test)\n",
    "    mse = mean_squared_error(y_test, y_pred)\n",
    "    mse_values.append(mse)\n",
    "\n",
    "plt.plot(range(1, 11), mse_values, marker='o')\n",
    "plt.xlabel('Максимальная степень полинома')\n",
    "plt.ylabel('MSE')\n",
    "plt.title('Зависимость MSE от степени полинома')\n",
    "plt.show()"
   ]
  },
  {
   "cell_type": "code",
   "execution_count": 15,
   "id": "d67af5e9-7785-4b8b-96c2-ca5f687a5b1f",
   "metadata": {},
   "outputs": [
    {
     "name": "stderr",
     "output_type": "stream",
     "text": [
      "C:\\ProgramData\\anaconda3\\Lib\\site-packages\\sklearn\\linear_model\\_ridge.py:216: LinAlgWarning: Ill-conditioned matrix (rcond=4.8376e-28): result may not be accurate.\n",
      "  return linalg.solve(A, Xy, assume_a=\"pos\", overwrite_a=True).T\n",
      "C:\\ProgramData\\anaconda3\\Lib\\site-packages\\sklearn\\linear_model\\_ridge.py:216: LinAlgWarning: Ill-conditioned matrix (rcond=1.52653e-27): result may not be accurate.\n",
      "  return linalg.solve(A, Xy, assume_a=\"pos\", overwrite_a=True).T\n",
      "C:\\ProgramData\\anaconda3\\Lib\\site-packages\\sklearn\\linear_model\\_ridge.py:216: LinAlgWarning: Ill-conditioned matrix (rcond=2.5693e-27): result may not be accurate.\n",
      "  return linalg.solve(A, Xy, assume_a=\"pos\", overwrite_a=True).T\n",
      "C:\\ProgramData\\anaconda3\\Lib\\site-packages\\sklearn\\linear_model\\_ridge.py:216: LinAlgWarning: Ill-conditioned matrix (rcond=3.61207e-27): result may not be accurate.\n",
      "  return linalg.solve(A, Xy, assume_a=\"pos\", overwrite_a=True).T\n",
      "C:\\ProgramData\\anaconda3\\Lib\\site-packages\\sklearn\\linear_model\\_ridge.py:216: LinAlgWarning: Ill-conditioned matrix (rcond=4.65485e-27): result may not be accurate.\n",
      "  return linalg.solve(A, Xy, assume_a=\"pos\", overwrite_a=True).T\n",
      "C:\\ProgramData\\anaconda3\\Lib\\site-packages\\sklearn\\linear_model\\_ridge.py:216: LinAlgWarning: Ill-conditioned matrix (rcond=5.69762e-27): result may not be accurate.\n",
      "  return linalg.solve(A, Xy, assume_a=\"pos\", overwrite_a=True).T\n",
      "C:\\ProgramData\\anaconda3\\Lib\\site-packages\\sklearn\\linear_model\\_ridge.py:216: LinAlgWarning: Ill-conditioned matrix (rcond=6.74039e-27): result may not be accurate.\n",
      "  return linalg.solve(A, Xy, assume_a=\"pos\", overwrite_a=True).T\n",
      "C:\\ProgramData\\anaconda3\\Lib\\site-packages\\sklearn\\linear_model\\_ridge.py:216: LinAlgWarning: Ill-conditioned matrix (rcond=7.78316e-27): result may not be accurate.\n",
      "  return linalg.solve(A, Xy, assume_a=\"pos\", overwrite_a=True).T\n",
      "C:\\ProgramData\\anaconda3\\Lib\\site-packages\\sklearn\\linear_model\\_ridge.py:216: LinAlgWarning: Ill-conditioned matrix (rcond=8.82593e-27): result may not be accurate.\n",
      "  return linalg.solve(A, Xy, assume_a=\"pos\", overwrite_a=True).T\n",
      "C:\\ProgramData\\anaconda3\\Lib\\site-packages\\sklearn\\linear_model\\_ridge.py:216: LinAlgWarning: Ill-conditioned matrix (rcond=9.8687e-27): result may not be accurate.\n",
      "  return linalg.solve(A, Xy, assume_a=\"pos\", overwrite_a=True).T\n",
      "C:\\ProgramData\\anaconda3\\Lib\\site-packages\\sklearn\\linear_model\\_ridge.py:216: LinAlgWarning: Ill-conditioned matrix (rcond=1.09115e-26): result may not be accurate.\n",
      "  return linalg.solve(A, Xy, assume_a=\"pos\", overwrite_a=True).T\n",
      "C:\\ProgramData\\anaconda3\\Lib\\site-packages\\sklearn\\linear_model\\_ridge.py:216: LinAlgWarning: Ill-conditioned matrix (rcond=1.19542e-26): result may not be accurate.\n",
      "  return linalg.solve(A, Xy, assume_a=\"pos\", overwrite_a=True).T\n",
      "C:\\ProgramData\\anaconda3\\Lib\\site-packages\\sklearn\\linear_model\\_ridge.py:216: LinAlgWarning: Ill-conditioned matrix (rcond=1.2997e-26): result may not be accurate.\n",
      "  return linalg.solve(A, Xy, assume_a=\"pos\", overwrite_a=True).T\n",
      "C:\\ProgramData\\anaconda3\\Lib\\site-packages\\sklearn\\linear_model\\_ridge.py:216: LinAlgWarning: Ill-conditioned matrix (rcond=1.40398e-26): result may not be accurate.\n",
      "  return linalg.solve(A, Xy, assume_a=\"pos\", overwrite_a=True).T\n",
      "C:\\ProgramData\\anaconda3\\Lib\\site-packages\\sklearn\\linear_model\\_ridge.py:216: LinAlgWarning: Ill-conditioned matrix (rcond=1.50826e-26): result may not be accurate.\n",
      "  return linalg.solve(A, Xy, assume_a=\"pos\", overwrite_a=True).T\n",
      "C:\\ProgramData\\anaconda3\\Lib\\site-packages\\sklearn\\linear_model\\_ridge.py:216: LinAlgWarning: Ill-conditioned matrix (rcond=1.61253e-26): result may not be accurate.\n",
      "  return linalg.solve(A, Xy, assume_a=\"pos\", overwrite_a=True).T\n"
     ]
    },
    {
     "data": {
      "image/png": "[encoded data removed]",
      "text/plain": [
       "<Figure size 1400x600 with 2 Axes>"
      ]
     },
     "metadata": {},
     "output_type": "display_data"
    }
   ],
   "source": [
    "#Гребневая регрессия\n",
    "best_degree = 5  \n",
    "mse_alpha, max_coef_alpha = [], []\n",
    "alpha_values = np.linspace(0.03, 1.0, 16)\n",
    "\n",
    "poly = PolynomialFeatures(best_degree)\n",
    "X_poly = poly.fit_transform(X)\n",
    "X_train, X_test, y_train, y_test = train_test_split(X_poly, y, random_state=1)\n",
    "\n",
    "for alpha in alpha_values:\n",
    "    ridge_model = Ridge(alpha=alpha)\n",
    "    ridge_model.fit(X_train, y_train)\n",
    "    \n",
    "    y_pred = ridge_model.predict(X_test)\n",
    "    mse = mean_squared_error(y_test, y_pred)\n",
    "    max_coef = np.max(np.abs(ridge_model.coef_))\n",
    "    \n",
    "    mse_alpha.append(mse)\n",
    "    max_coef_alpha.append(max_coef)\n",
    "\n",
    "plt.figure(figsize=(14, 6))\n",
    "plt.subplot(1, 2, 1)\n",
    "plt.plot(alpha_values, mse_alpha, marker='o')\n",
    "plt.xlabel('Alpha')\n",
    "plt.ylabel('MSE')\n",
    "plt.title('Зависимость MSE от Alpha (Ridge)')\n",
    "\n",
    "plt.subplot(1, 2, 2)\n",
    "plt.plot(alpha_values, max_coef_alpha, marker='o')\n",
    "plt.xlabel('Alpha')\n",
    "plt.ylabel('Максимальный модуль параметров')\n",
    "plt.title('Зависимость максимального модуля параметров от Alpha (Ridge)')\n",
    "plt.show()"
   ]
  },
  {
   "cell_type": "code",
   "execution_count": 16,
   "id": "24056357-593c-4d34-9b14-eca7acced6e1",
   "metadata": {},
   "outputs": [
    {
     "name": "stderr",
     "output_type": "stream",
     "text": [
      "C:\\ProgramData\\anaconda3\\Lib\\site-packages\\sklearn\\linear_model\\_coordinate_descent.py:631: ConvergenceWarning: Objective did not converge. You might want to increase the number of iterations, check the scale of the features or consider increasing regularisation. Duality gap: 1.126e+01, tolerance: 4.221e-01\n",
      "  model = cd_fast.enet_coordinate_descent(\n",
      "C:\\ProgramData\\anaconda3\\Lib\\site-packages\\sklearn\\linear_model\\_coordinate_descent.py:631: ConvergenceWarning: Objective did not converge. You might want to increase the number of iterations, check the scale of the features or consider increasing regularisation. Duality gap: 1.235e+01, tolerance: 4.221e-01\n",
      "  model = cd_fast.enet_coordinate_descent(\n",
      "C:\\ProgramData\\anaconda3\\Lib\\site-packages\\sklearn\\linear_model\\_coordinate_descent.py:631: ConvergenceWarning: Objective did not converge. You might want to increase the number of iterations, check the scale of the features or consider increasing regularisation. Duality gap: 1.353e+01, tolerance: 4.221e-01\n",
      "  model = cd_fast.enet_coordinate_descent(\n",
      "C:\\ProgramData\\anaconda3\\Lib\\site-packages\\sklearn\\linear_model\\_coordinate_descent.py:631: ConvergenceWarning: Objective did not converge. You might want to increase the number of iterations, check the scale of the features or consider increasing regularisation. Duality gap: 1.465e+01, tolerance: 4.221e-01\n",
      "  model = cd_fast.enet_coordinate_descent(\n",
      "C:\\ProgramData\\anaconda3\\Lib\\site-packages\\sklearn\\linear_model\\_coordinate_descent.py:631: ConvergenceWarning: Objective did not converge. You might want to increase the number of iterations, check the scale of the features or consider increasing regularisation. Duality gap: 1.569e+01, tolerance: 4.221e-01\n",
      "  model = cd_fast.enet_coordinate_descent(\n",
      "C:\\ProgramData\\anaconda3\\Lib\\site-packages\\sklearn\\linear_model\\_coordinate_descent.py:631: ConvergenceWarning: Objective did not converge. You might want to increase the number of iterations, check the scale of the features or consider increasing regularisation. Duality gap: 1.668e+01, tolerance: 4.221e-01\n",
      "  model = cd_fast.enet_coordinate_descent(\n",
      "C:\\ProgramData\\anaconda3\\Lib\\site-packages\\sklearn\\linear_model\\_coordinate_descent.py:631: ConvergenceWarning: Objective did not converge. You might want to increase the number of iterations, check the scale of the features or consider increasing regularisation. Duality gap: 1.760e+01, tolerance: 4.221e-01\n",
      "  model = cd_fast.enet_coordinate_descent(\n",
      "C:\\ProgramData\\anaconda3\\Lib\\site-packages\\sklearn\\linear_model\\_coordinate_descent.py:631: ConvergenceWarning: Objective did not converge. You might want to increase the number of iterations, check the scale of the features or consider increasing regularisation. Duality gap: 1.848e+01, tolerance: 4.221e-01\n",
      "  model = cd_fast.enet_coordinate_descent(\n",
      "C:\\ProgramData\\anaconda3\\Lib\\site-packages\\sklearn\\linear_model\\_coordinate_descent.py:631: ConvergenceWarning: Objective did not converge. You might want to increase the number of iterations, check the scale of the features or consider increasing regularisation. Duality gap: 1.930e+01, tolerance: 4.221e-01\n",
      "  model = cd_fast.enet_coordinate_descent(\n",
      "C:\\ProgramData\\anaconda3\\Lib\\site-packages\\sklearn\\linear_model\\_coordinate_descent.py:631: ConvergenceWarning: Objective did not converge. You might want to increase the number of iterations, check the scale of the features or consider increasing regularisation. Duality gap: 2.007e+01, tolerance: 4.221e-01\n",
      "  model = cd_fast.enet_coordinate_descent(\n",
      "C:\\ProgramData\\anaconda3\\Lib\\site-packages\\sklearn\\linear_model\\_coordinate_descent.py:631: ConvergenceWarning: Objective did not converge. You might want to increase the number of iterations, check the scale of the features or consider increasing regularisation. Duality gap: 2.079e+01, tolerance: 4.221e-01\n",
      "  model = cd_fast.enet_coordinate_descent(\n",
      "C:\\ProgramData\\anaconda3\\Lib\\site-packages\\sklearn\\linear_model\\_coordinate_descent.py:631: ConvergenceWarning: Objective did not converge. You might want to increase the number of iterations, check the scale of the features or consider increasing regularisation. Duality gap: 2.145e+01, tolerance: 4.221e-01\n",
      "  model = cd_fast.enet_coordinate_descent(\n",
      "C:\\ProgramData\\anaconda3\\Lib\\site-packages\\sklearn\\linear_model\\_coordinate_descent.py:631: ConvergenceWarning: Objective did not converge. You might want to increase the number of iterations, check the scale of the features or consider increasing regularisation. Duality gap: 2.207e+01, tolerance: 4.221e-01\n",
      "  model = cd_fast.enet_coordinate_descent(\n",
      "C:\\ProgramData\\anaconda3\\Lib\\site-packages\\sklearn\\linear_model\\_coordinate_descent.py:631: ConvergenceWarning: Objective did not converge. You might want to increase the number of iterations, check the scale of the features or consider increasing regularisation. Duality gap: 2.264e+01, tolerance: 4.221e-01\n",
      "  model = cd_fast.enet_coordinate_descent(\n",
      "C:\\ProgramData\\anaconda3\\Lib\\site-packages\\sklearn\\linear_model\\_coordinate_descent.py:631: ConvergenceWarning: Objective did not converge. You might want to increase the number of iterations, check the scale of the features or consider increasing regularisation. Duality gap: 2.316e+01, tolerance: 4.221e-01\n",
      "  model = cd_fast.enet_coordinate_descent(\n",
      "C:\\ProgramData\\anaconda3\\Lib\\site-packages\\sklearn\\linear_model\\_coordinate_descent.py:631: ConvergenceWarning: Objective did not converge. You might want to increase the number of iterations, check the scale of the features or consider increasing regularisation. Duality gap: 2.362e+01, tolerance: 4.221e-01\n",
      "  model = cd_fast.enet_coordinate_descent(\n"
     ]
    },
    {
     "data": {
      "image/png": "[encoded data removed]",
      "text/plain": [
       "<Figure size 1400x600 with 2 Axes>"
      ]
     },
     "metadata": {},
     "output_type": "display_data"
    }
   ],
   "source": [
    "#Лассо-регрессия\n",
    "mse_alpha, max_coef_alpha = [], []\n",
    "for alpha in alpha_values:\n",
    "    lasso_model = Lasso(alpha=alpha, max_iter=10000)\n",
    "    lasso_model.fit(X_train, y_train)\n",
    "    \n",
    "    y_pred = lasso_model.predict(X_test)\n",
    "    mse = mean_squared_error(y_test, y_pred)\n",
    "    max_coef = np.max(np.abs(lasso_model.coef_))\n",
    "    \n",
    "    mse_alpha.append(mse)\n",
    "    max_coef_alpha.append(max_coef)\n",
    "\n",
    "plt.figure(figsize=(14, 6))\n",
    "plt.subplot(1, 2, 1)\n",
    "plt.plot(alpha_values, mse_alpha, marker='o')\n",
    "plt.xlabel('Alpha')\n",
    "plt.ylabel('MSE')\n",
    "plt.title('Зависимость MSE от Alpha (Lasso)')\n",
    "\n",
    "plt.subplot(1, 2, 2)\n",
    "plt.plot(alpha_values, max_coef_alpha, marker='o')\n",
    "plt.xlabel('Alpha')\n",
    "plt.ylabel('Максимальный модуль параметров')\n",
    "plt.title('Зависимость максимального модуля параметров от Alpha (Lasso)')\n",
    "plt.show()\n"
   ]
  },
  {
   "cell_type": "code",
   "execution_count": 17,
   "id": "f0b94d89-c601-463d-a116-27c044943530",
   "metadata": {},
   "outputs": [
    {
     "name": "stdout",
     "output_type": "stream",
     "text": [
      "SVR с ядром 'poly': MSE = 6.329632717776039\n",
      "SVR с ядром 'sigmoid': MSE = 452.7738610369937\n"
     ]
    }
   ],
   "source": [
    "#Support Vector Regression (SVR)\n",
    "from sklearn.preprocessing import StandardScaler\n",
    "\n",
    "scaler = StandardScaler()\n",
    "X_scaled = scaler.fit_transform(X)\n",
    "\n",
    "X_train, X_test, y_train, y_test = train_test_split(X_scaled, y, random_state=1)\n",
    "\n",
    "kernels = ['poly', 'sigmoid']\n",
    "for kernel in kernels:\n",
    "    svr_model = SVR(kernel=kernel, C=100, gamma=0.1)\n",
    "    svr_model.fit(X_train, y_train)\n",
    "    \n",
    "    y_pred = svr_model.predict(X_test)\n",
    "    mse = mean_squared_error(y_test, y_pred)\n",
    "    print(f\"SVR с ядром '{kernel}': MSE = {mse}\")"
   ]
  },
  {
   "cell_type": "code",
   "execution_count": null,
   "id": "54c90e7d-0ff4-47b4-9bd7-9cd04320dd20",
   "metadata": {},
   "outputs": [],
   "source": []
  },
  {
   "cell_type": "code",
   "execution_count": null,
   "id": "388ec0be-2f8a-4d89-9f41-d1e294f94daf",
   "metadata": {},
   "outputs": [],
   "source": []
  }
 ],
 "metadata": {
  "kernelspec": {
   "display_name": "Python 3 (ipykernel)",
   "language": "python",
   "name": "python3"
  },
  "language_info": {
   "codemirror_mode": {
    "name": "ipython",
    "version": 3
   },
   "file_extension": ".py",
   "mimetype": "text/x-python",
   "name": "python",
   "nbconvert_exporter": "python",
   "pygments_lexer": "ipython3",
   "version": "3.11.7"
  }
 },
 "nbformat": 4,
 "nbformat_minor": 5
}
